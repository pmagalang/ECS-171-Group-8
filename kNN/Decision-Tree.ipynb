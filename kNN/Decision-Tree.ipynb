{
 "cells": [
  {
   "cell_type": "code",
   "execution_count": 2,
   "id": "8c8b1933-e29c-44f3-8d04-b6f91d1cc134",
   "metadata": {},
   "outputs": [],
   "source": [
    "from sklearn.tree import DecisionTreeClassifier"
   ]
  },
  {
   "cell_type": "code",
   "execution_count": 4,
   "id": "aafd52bd-403d-4768-a5b4-0920a9b79a7f",
   "metadata": {},
   "outputs": [],
   "source": [
    "from sklearn.model_selection import train_test_split\n",
    "import helper\n",
    "translator, data, targets = helper.get_data(\"../mel-grams\")\n",
    "data = helper.image_processor(data)\n",
    "\n",
    "from sklearn.model_selection import train_test_split\n",
    "X_train, X_test, y_train, y_test = train_test_split(\n",
    "    data, targets, test_size=0.2, shuffle=True, random_state=0)"
   ]
  },
  {
   "cell_type": "code",
   "execution_count": 6,
   "id": "18ed0063-4ae5-4160-bec8-9ef31ab873ff",
   "metadata": {},
   "outputs": [
    {
     "data": {
      "text/plain": [
       "DecisionTreeClassifier()"
      ]
     },
     "execution_count": 6,
     "metadata": {},
     "output_type": "execute_result"
    }
   ],
   "source": [
    "dtc = DecisionTreeClassifier()\n",
    "dtc.fit(X_train, y_train)"
   ]
  },
  {
   "cell_type": "code",
   "execution_count": 8,
   "id": "7e9628ab-7c0b-4587-b26d-18585bdc3b04",
   "metadata": {},
   "outputs": [
    {
     "name": "stdout",
     "output_type": "stream",
     "text": [
      "Classification report for classifier DecisionTreeClassifier():\n",
      "              precision    recall  f1-score   support\n",
      "\n",
      "           0       0.13      0.14      0.14        14\n",
      "           1       0.25      0.36      0.30        11\n",
      "           2       0.05      0.04      0.04        26\n",
      "           3       0.09      0.04      0.06        24\n",
      "           4       0.21      0.15      0.17        27\n",
      "           5       0.21      0.31      0.25        16\n",
      "           6       0.53      0.44      0.48        18\n",
      "           7       0.42      0.48      0.45        23\n",
      "           8       0.15      0.19      0.17        21\n",
      "           9       0.11      0.15      0.12        20\n",
      "\n",
      "    accuracy                           0.21       200\n",
      "   macro avg       0.22      0.23      0.22       200\n",
      "weighted avg       0.21      0.21      0.21       200\n",
      "\n",
      "\n"
     ]
    }
   ],
   "source": [
    "from sklearn import metrics\n",
    "\n",
    "predicted = dtc.predict(X_test)\n",
    "print(f\"Classification report for classifier {dtc}:\\n\"\n",
    "      f\"{metrics.classification_report(y_test, predicted)}\\n\")"
   ]
  },
  {
   "cell_type": "markdown",
   "id": "78420d8f-5658-4dd2-bd50-b4b44feb0bd0",
   "metadata": {},
   "source": [
    "# Chroma"
   ]
  },
  {
   "cell_type": "code",
   "execution_count": 9,
   "id": "b5a5f66f-5899-40d0-b735-e5cf133bef6f",
   "metadata": {},
   "outputs": [
    {
     "name": "stdout",
     "output_type": "stream",
     "text": [
      "Classification report for classifier DecisionTreeClassifier():\n",
      "              precision    recall  f1-score   support\n",
      "\n",
      "           0       0.04      0.07      0.05        14\n",
      "           1       0.14      0.27      0.19        11\n",
      "           2       0.11      0.08      0.09        26\n",
      "           3       0.36      0.17      0.23        24\n",
      "           4       0.33      0.22      0.27        27\n",
      "           5       0.24      0.38      0.29        16\n",
      "           6       0.17      0.28      0.21        18\n",
      "           7       0.10      0.09      0.09        23\n",
      "           8       0.13      0.10      0.11        21\n",
      "           9       0.06      0.05      0.06        20\n",
      "\n",
      "    accuracy                           0.16       200\n",
      "   macro avg       0.17      0.17      0.16       200\n",
      "weighted avg       0.18      0.16      0.16       200\n",
      "\n",
      "\n"
     ]
    }
   ],
   "source": [
    "from sklearn.model_selection import train_test_split\n",
    "from sklearn.tree import DecisionTreeClassifier\n",
    "import helper\n",
    "translator, data, targets = helper.get_data(\"../chroma\")\n",
    "data = helper.image_processor(data)\n",
    "\n",
    "from sklearn.model_selection import train_test_split\n",
    "X_train, X_test, y_train, y_test = train_test_split(\n",
    "    data, targets, test_size=0.2, shuffle=True, random_state=0)\n",
    "\n",
    "dtc = DecisionTreeClassifier()\n",
    "dtc.fit(X_train, y_train)\n",
    "\n",
    "from sklearn import metrics\n",
    "\n",
    "predicted = dtc.predict(X_test)\n",
    "print(f\"Classification report for classifier {dtc}:\\n\"\n",
    "      f\"{metrics.classification_report(y_test, predicted)}\\n\")"
   ]
  },
  {
   "cell_type": "markdown",
   "id": "847a14af-293a-4139-9b4a-8c5306d49632",
   "metadata": {},
   "source": [
    "# Tonnetz"
   ]
  },
  {
   "cell_type": "code",
   "execution_count": 11,
   "id": "8e79a7f9-bad8-41a4-9770-38221a3136ac",
   "metadata": {},
   "outputs": [
    {
     "name": "stdout",
     "output_type": "stream",
     "text": [
      "Classification report for classifier DecisionTreeClassifier():\n",
      "              precision    recall  f1-score   support\n",
      "\n",
      "           0       0.10      0.14      0.12        14\n",
      "           1       0.00      0.00      0.00        11\n",
      "           2       0.19      0.15      0.17        26\n",
      "           3       0.17      0.17      0.17        24\n",
      "           4       0.09      0.07      0.08        27\n",
      "           5       0.17      0.25      0.21        16\n",
      "           6       0.22      0.22      0.22        18\n",
      "           7       0.17      0.13      0.15        23\n",
      "           8       0.16      0.19      0.17        21\n",
      "           9       0.11      0.10      0.10        20\n",
      "\n",
      "    accuracy                           0.14       200\n",
      "   macro avg       0.14      0.14      0.14       200\n",
      "weighted avg       0.14      0.14      0.14       200\n",
      "\n",
      "\n"
     ]
    }
   ],
   "source": [
    "from sklearn.model_selection import train_test_split\n",
    "from sklearn.tree import DecisionTreeClassifier\n",
    "import helper\n",
    "translator, data, targets = helper.get_data(\"../tonnetz\")\n",
    "data = helper.image_processor(data)\n",
    "\n",
    "from sklearn.model_selection import train_test_split\n",
    "X_train, X_test, y_train, y_test = train_test_split(\n",
    "    data, targets, test_size=0.2, shuffle=True, random_state=0)\n",
    "\n",
    "dtc = DecisionTreeClassifier()\n",
    "dtc.fit(X_train, y_train)\n",
    "\n",
    "from sklearn import metrics\n",
    "\n",
    "predicted = dtc.predict(X_test)\n",
    "print(f\"Classification report for classifier {dtc}:\\n\"\n",
    "      f\"{metrics.classification_report(y_test, predicted)}\\n\")"
   ]
  },
  {
   "cell_type": "code",
   "execution_count": null,
   "id": "c56f6ab2-3eca-4bdf-8e1d-b0a285bb64e4",
   "metadata": {},
   "outputs": [],
   "source": []
  }
 ],
 "metadata": {
  "kernelspec": {
   "display_name": "Python 3",
   "language": "python",
   "name": "python3"
  },
  "language_info": {
   "codemirror_mode": {
    "name": "ipython",
    "version": 3
   },
   "file_extension": ".py",
   "mimetype": "text/x-python",
   "name": "python",
   "nbconvert_exporter": "python",
   "pygments_lexer": "ipython3",
   "version": "3.9.2"
  }
 },
 "nbformat": 4,
 "nbformat_minor": 5
}
