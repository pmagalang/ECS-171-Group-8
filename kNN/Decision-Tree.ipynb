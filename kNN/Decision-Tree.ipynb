{
 "cells": [
  {
   "cell_type": "code",
   "execution_count": 1,
   "metadata": {},
   "outputs": [],
   "source": [
    "from sklearn.tree import DecisionTreeClassifier"
   ]
  },
  {
   "cell_type": "code",
   "execution_count": 2,
   "metadata": {},
   "outputs": [],
   "source": [
    "from sklearn.model_selection import train_test_split\n",
    "import helper\n",
    "translator, data, targets = helper.get_data(\"../mel-grams\")\n",
    "data = helper.image_processor(data)\n",
    "\n",
    "from sklearn.model_selection import train_test_split\n",
    "X_train, X_test, y_train, y_test = train_test_split(\n",
    "    data, targets, test_size=0.2, shuffle=True, random_state=0)"
   ]
  },
  {
   "cell_type": "code",
   "execution_count": 3,
   "metadata": {},
   "outputs": [
    {
     "data": {
      "text/plain": [
       "DecisionTreeClassifier()"
      ]
     },
     "execution_count": 3,
     "metadata": {},
     "output_type": "execute_result"
    }
   ],
   "source": [
    "dtc = DecisionTreeClassifier()\n",
    "dtc.fit(X_train, y_train)"
   ]
  },
  {
   "cell_type": "code",
   "execution_count": 6,
   "metadata": {},
   "outputs": [
    {
     "name": "stdout",
     "output_type": "stream",
     "text": [
      "Classification report for classifier DecisionTreeClassifier():\n",
      "              precision    recall  f1-score   support\n",
      "\n",
      "           0       0.09      0.14      0.11        14\n",
      "           1       0.22      0.36      0.28        11\n",
      "           2       0.17      0.12      0.14        26\n",
      "           3       0.14      0.04      0.06        24\n",
      "           4       0.23      0.19      0.20        27\n",
      "           5       0.20      0.25      0.22        16\n",
      "           6       0.47      0.39      0.42        18\n",
      "           7       0.50      0.57      0.53        23\n",
      "           8       0.12      0.14      0.13        21\n",
      "           9       0.12      0.15      0.13        20\n",
      "\n",
      "    accuracy                           0.23       200\n",
      "   macro avg       0.22      0.23      0.22       200\n",
      "weighted avg       0.23      0.23      0.22       200\n",
      "\n",
      "\n",
      "0.225\n"
     ]
    }
   ],
   "source": [
    "from sklearn import metrics\n",
    "from sklearn.metrics import accuracy_score\n",
    "\n",
    "y_true, y_pred =y_test, dtc.predict(X_test)\n",
    "print(f\"Classification report for classifier {dtc}:\\n\"\n",
    "      f\"{metrics.classification_report(y_true, y_pred)}\\n\")\n",
    "\n",
    "print(accuracy_score(y_true, y_pred))"
   ]
  },
  {
   "cell_type": "markdown",
   "metadata": {},
   "source": [
    "# Chroma"
   ]
  },
  {
   "cell_type": "code",
   "execution_count": 7,
   "metadata": {},
   "outputs": [
    {
     "name": "stdout",
     "output_type": "stream",
     "text": [
      "Classification report for classifier DecisionTreeClassifier():\n",
      "              precision    recall  f1-score   support\n",
      "\n",
      "           0       0.04      0.07      0.05        14\n",
      "           1       0.12      0.27      0.17        11\n",
      "           2       0.25      0.12      0.16        26\n",
      "           3       0.07      0.04      0.05        24\n",
      "           4       0.29      0.19      0.23        27\n",
      "           5       0.26      0.38      0.31        16\n",
      "           6       0.18      0.28      0.22        18\n",
      "           7       0.18      0.13      0.15        23\n",
      "           8       0.09      0.10      0.09        21\n",
      "           9       0.13      0.10      0.11        20\n",
      "\n",
      "    accuracy                           0.15       200\n",
      "   macro avg       0.16      0.17      0.15       200\n",
      "weighted avg       0.17      0.15      0.15       200\n",
      "\n",
      "\n",
      "0.155\n"
     ]
    }
   ],
   "source": [
    "from sklearn.model_selection import train_test_split\n",
    "from sklearn.tree import DecisionTreeClassifier\n",
    "import helper\n",
    "translator, data, targets = helper.get_data(\"../chroma\")\n",
    "data = helper.image_processor(data)\n",
    "\n",
    "from sklearn.model_selection import train_test_split\n",
    "X_train, X_test, y_train, y_test = train_test_split(\n",
    "    data, targets, test_size=0.2, shuffle=True, random_state=0)\n",
    "\n",
    "dtc = DecisionTreeClassifier()\n",
    "dtc.fit(X_train, y_train)\n",
    "\n",
    "from sklearn import metrics\n",
    "from sklearn.metrics import accuracy_score\n",
    "\n",
    "y_true, y_pred =y_test, dtc.predict(X_test)\n",
    "print(f\"Classification report for classifier {dtc}:\\n\"\n",
    "      f\"{metrics.classification_report(y_true, y_pred)}\\n\")\n",
    "\n",
    "print(accuracy_score(y_true, y_pred))"
   ]
  },
  {
   "cell_type": "markdown",
   "metadata": {},
   "source": [
    "# Tonnetz"
   ]
  },
  {
   "cell_type": "code",
   "execution_count": 8,
   "metadata": {},
   "outputs": [
    {
     "name": "stdout",
     "output_type": "stream",
     "text": [
      "Classification report for classifier DecisionTreeClassifier():\n",
      "              precision    recall  f1-score   support\n",
      "\n",
      "           0       0.11      0.14      0.12        14\n",
      "           1       0.07      0.09      0.08        11\n",
      "           2       0.29      0.23      0.26        26\n",
      "           3       0.14      0.12      0.13        24\n",
      "           4       0.11      0.07      0.09        27\n",
      "           5       0.31      0.31      0.31        16\n",
      "           6       0.16      0.17      0.16        18\n",
      "           7       0.22      0.22      0.22        23\n",
      "           8       0.17      0.19      0.18        21\n",
      "           9       0.08      0.10      0.09        20\n",
      "\n",
      "    accuracy                           0.17       200\n",
      "   macro avg       0.17      0.17      0.16       200\n",
      "weighted avg       0.17      0.17      0.17       200\n",
      "\n",
      "\n",
      "0.165\n"
     ]
    }
   ],
   "source": [
    "from sklearn.model_selection import train_test_split\n",
    "from sklearn.tree import DecisionTreeClassifier\n",
    "import helper\n",
    "translator, data, targets = helper.get_data(\"../tonnetz\")\n",
    "data = helper.image_processor(data)\n",
    "\n",
    "from sklearn.model_selection import train_test_split\n",
    "X_train, X_test, y_train, y_test = train_test_split(\n",
    "    data, targets, test_size=0.2, shuffle=True, random_state=0)\n",
    "\n",
    "dtc = DecisionTreeClassifier()\n",
    "dtc.fit(X_train, y_train)\n",
    "\n",
    "from sklearn import metrics\n",
    "from sklearn.metrics import accuracy_score\n",
    "\n",
    "y_true, y_pred =y_test, dtc.predict(X_test)\n",
    "print(f\"Classification report for classifier {dtc}:\\n\"\n",
    "      f\"{metrics.classification_report(y_true, y_pred)}\\n\")\n",
    "\n",
    "print(accuracy_score(y_true, y_pred))"
   ]
  }
 ],
 "metadata": {
  "kernelspec": {
   "display_name": "Python 3",
   "language": "python",
   "name": "python3"
  },
  "language_info": {
   "codemirror_mode": {
    "name": "ipython",
    "version": 3
   },
   "file_extension": ".py",
   "mimetype": "text/x-python",
   "name": "python",
   "nbconvert_exporter": "python",
   "pygments_lexer": "ipython3",
   "version": "3.8.5"
  }
 },
 "nbformat": 4,
 "nbformat_minor": 5
}
