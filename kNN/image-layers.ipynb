{
 "cells": [
  {
   "cell_type": "code",
   "execution_count": 1,
   "id": "da5d28f5-1b5e-4a67-b9dc-c78630255b45",
   "metadata": {},
   "outputs": [],
   "source": [
    "import helper"
   ]
  },
  {
   "cell_type": "code",
   "execution_count": 2,
   "id": "b984556f-db15-42a3-9df9-126d7d754d71",
   "metadata": {},
   "outputs": [],
   "source": [
    "translator, data, targets = helper.get_data(\"../mel-grams\")"
   ]
  },
  {
   "cell_type": "code",
   "execution_count": 6,
   "id": "77d43e3c-6477-422b-84f3-7571231f8bc6",
   "metadata": {},
   "outputs": [
    {
     "data": {
      "text/plain": [
       "array([[255, 255, 255,   0],\n",
       "       [255, 255, 255,   0],\n",
       "       [255, 255, 255,   0],\n",
       "       ...,\n",
       "       [255, 255, 255,   0],\n",
       "       [255, 255, 255,   0],\n",
       "       [255, 255, 255,   0]], dtype=uint8)"
      ]
     },
     "execution_count": 6,
     "metadata": {},
     "output_type": "execute_result"
    }
   ],
   "source": [
    "data[0][3]"
   ]
  },
  {
   "cell_type": "code",
   "execution_count": null,
   "id": "68fa6d31-382b-4696-aac6-f565bfa4f33d",
   "metadata": {},
   "outputs": [],
   "source": []
  }
 ],
 "metadata": {
  "kernelspec": {
   "display_name": "Python 3",
   "language": "python",
   "name": "python3"
  },
  "language_info": {
   "codemirror_mode": {
    "name": "ipython",
    "version": 3
   },
   "file_extension": ".py",
   "mimetype": "text/x-python",
   "name": "python",
   "nbconvert_exporter": "python",
   "pygments_lexer": "ipython3",
   "version": "3.9.2"
  }
 },
 "nbformat": 4,
 "nbformat_minor": 5
}
