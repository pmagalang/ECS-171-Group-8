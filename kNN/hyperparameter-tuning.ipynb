{
 "cells": [
  {
   "cell_type": "code",
   "execution_count": 1,
   "id": "3923053b-0f88-463b-a1ec-7f49325bfd3b",
   "metadata": {},
   "outputs": [],
   "source": [
    "from sklearn.neighbors import KNeighborsClassifier\n",
    "from sklearn.model_selection import train_test_split\n",
    "from sklearn.model_selection import GridSearchCV\n",
    "from sklearn.metrics import classification_report\n",
    "import helper"
   ]
  },
  {
   "cell_type": "code",
   "execution_count": 2,
   "id": "7152a95d-f4ce-4e3d-a3c4-ceb9ffece2ff",
   "metadata": {},
   "outputs": [],
   "source": [
    "translator, data, targets = helper.get_data(\"../mel-grams\")"
   ]
  },
  {
   "cell_type": "code",
   "execution_count": 3,
   "id": "9e279d63-5140-478d-a142-b896aed71aac",
   "metadata": {},
   "outputs": [],
   "source": [
    "data = helper.image_processor(data)"
   ]
  },
  {
   "cell_type": "code",
   "execution_count": 4,
   "id": "d105ff70-271b-4235-98af-09d1c2de0f98",
   "metadata": {},
   "outputs": [],
   "source": [
    "from sklearn.model_selection import train_test_split\n",
    "X_train, X_test, y_train, y_test = train_test_split(\n",
    "    data, targets, test_size=0.2, shuffle=True, random_state=0)"
   ]
  },
  {
   "cell_type": "code",
   "execution_count": 13,
   "id": "4b753aa6-f6cd-4410-a92b-cb5a7accbeeb",
   "metadata": {},
   "outputs": [
    {
     "name": "stdout",
     "output_type": "stream",
     "text": [
      "Best parameters set found on development set:\n",
      "\n",
      "{'n_neighbors': 27}\n",
      "0.367 (+/-0.059) for {'n_neighbors': 1}\n",
      "0.355 (+/-0.039) for {'n_neighbors': 2}\n",
      "0.362 (+/-0.054) for {'n_neighbors': 3}\n",
      "0.379 (+/-0.023) for {'n_neighbors': 4}\n",
      "0.369 (+/-0.053) for {'n_neighbors': 5}\n",
      "0.372 (+/-0.019) for {'n_neighbors': 6}\n",
      "0.363 (+/-0.032) for {'n_neighbors': 7}\n",
      "0.368 (+/-0.054) for {'n_neighbors': 8}\n",
      "0.370 (+/-0.037) for {'n_neighbors': 9}\n",
      "0.380 (+/-0.014) for {'n_neighbors': 10}\n",
      "0.377 (+/-0.024) for {'n_neighbors': 11}\n",
      "0.377 (+/-0.036) for {'n_neighbors': 12}\n",
      "0.374 (+/-0.027) for {'n_neighbors': 13}\n",
      "0.379 (+/-0.034) for {'n_neighbors': 14}\n",
      "0.370 (+/-0.058) for {'n_neighbors': 15}\n",
      "0.377 (+/-0.054) for {'n_neighbors': 16}\n",
      "0.384 (+/-0.039) for {'n_neighbors': 17}\n",
      "0.379 (+/-0.039) for {'n_neighbors': 18}\n",
      "0.375 (+/-0.031) for {'n_neighbors': 19}\n",
      "0.382 (+/-0.035) for {'n_neighbors': 20}\n",
      "0.385 (+/-0.048) for {'n_neighbors': 21}\n",
      "0.374 (+/-0.037) for {'n_neighbors': 22}\n",
      "0.385 (+/-0.049) for {'n_neighbors': 23}\n",
      "0.379 (+/-0.049) for {'n_neighbors': 24}\n",
      "0.375 (+/-0.058) for {'n_neighbors': 25}\n",
      "0.382 (+/-0.042) for {'n_neighbors': 26}\n",
      "0.388 (+/-0.066) for {'n_neighbors': 27}\n",
      "0.377 (+/-0.059) for {'n_neighbors': 28}\n",
      "0.380 (+/-0.058) for {'n_neighbors': 29}\n",
      "0.369 (+/-0.032) for {'n_neighbors': 30}\n",
      "0.378 (+/-0.028) for {'n_neighbors': 31}\n",
      "0.370 (+/-0.036) for {'n_neighbors': 32}\n",
      "0.383 (+/-0.034) for {'n_neighbors': 33}\n",
      "0.372 (+/-0.025) for {'n_neighbors': 34}\n",
      "0.380 (+/-0.022) for {'n_neighbors': 35}\n",
      "0.372 (+/-0.033) for {'n_neighbors': 36}\n",
      "0.368 (+/-0.023) for {'n_neighbors': 37}\n",
      "0.382 (+/-0.026) for {'n_neighbors': 38}\n",
      "0.386 (+/-0.035) for {'n_neighbors': 39}\n",
      "0.382 (+/-0.043) for {'n_neighbors': 40}\n",
      "0.377 (+/-0.032) for {'n_neighbors': 41}\n",
      "0.376 (+/-0.042) for {'n_neighbors': 42}\n",
      "0.376 (+/-0.048) for {'n_neighbors': 43}\n",
      "0.378 (+/-0.041) for {'n_neighbors': 44}\n",
      "0.372 (+/-0.038) for {'n_neighbors': 45}\n",
      "0.373 (+/-0.066) for {'n_neighbors': 46}\n",
      "0.372 (+/-0.058) for {'n_neighbors': 47}\n",
      "0.374 (+/-0.049) for {'n_neighbors': 48}\n",
      "0.374 (+/-0.041) for {'n_neighbors': 49}\n",
      "0.374 (+/-0.032) for {'n_neighbors': 50}\n",
      "              precision    recall  f1-score   support\n",
      "\n",
      "           0       0.17      0.07      0.10        14\n",
      "           1       0.57      0.73      0.64        11\n",
      "           2       0.00      0.00      0.00        26\n",
      "           3       0.39      0.29      0.33        24\n",
      "           4       0.38      0.52      0.44        27\n",
      "           5       0.16      0.50      0.25        16\n",
      "           6       0.32      0.83      0.46        18\n",
      "           7       0.77      0.43      0.56        23\n",
      "           8       0.00      0.00      0.00        21\n",
      "           9       0.00      0.00      0.00        20\n",
      "\n",
      "    accuracy                           0.32       200\n",
      "   macro avg       0.28      0.34      0.28       200\n",
      "weighted avg       0.27      0.32      0.27       200\n",
      "\n"
     ]
    },
    {
     "name": "stderr",
     "output_type": "stream",
     "text": [
      "/Users/jzl/opt/anaconda3/envs/ECS-171/lib/python3.9/site-packages/sklearn/metrics/_classification.py:1248: UndefinedMetricWarning: Precision and F-score are ill-defined and being set to 0.0 in labels with no predicted samples. Use `zero_division` parameter to control this behavior.\n",
      "  _warn_prf(average, modifier, msg_start, len(result))\n",
      "/Users/jzl/opt/anaconda3/envs/ECS-171/lib/python3.9/site-packages/sklearn/metrics/_classification.py:1248: UndefinedMetricWarning: Precision and F-score are ill-defined and being set to 0.0 in labels with no predicted samples. Use `zero_division` parameter to control this behavior.\n",
      "  _warn_prf(average, modifier, msg_start, len(result))\n",
      "/Users/jzl/opt/anaconda3/envs/ECS-171/lib/python3.9/site-packages/sklearn/metrics/_classification.py:1248: UndefinedMetricWarning: Precision and F-score are ill-defined and being set to 0.0 in labels with no predicted samples. Use `zero_division` parameter to control this behavior.\n",
      "  _warn_prf(average, modifier, msg_start, len(result))\n"
     ]
    }
   ],
   "source": [
    "# Set the parameters by cross-validation\n",
    "# Try just tuning the n_neighbours first\n",
    "tuned_parameters = [{'n_neighbors':[i+1 for i in range(50)], \n",
    "                     }]\n",
    "\n",
    "scores = ['accuracy']\n",
    "\n",
    "for score in scores:\n",
    "    \n",
    "    optimized_knn_model = GridSearchCV(\n",
    "        KNeighborsClassifier(n_jobs=-1), tuned_parameters, scoring=score\n",
    "    )\n",
    "    optimized_knn_model.fit(X_train, y_train)\n",
    "    \n",
    "    print(\"Best parameters set found on development set:\")\n",
    "    print()\n",
    "    print(optimized_knn_model.best_params_)\n",
    "    means = optimized_knn_model.cv_results_['mean_test_score']\n",
    "    stds = optimized_knn_model.cv_results_['std_test_score']\n",
    "    for mean, std, params in zip(means, stds, optimized_knn_model.cv_results_['params']):\n",
    "        print(\"%0.3f (+/-%0.03f) for %r\"\n",
    "              % (mean, std * 2, params))\n",
    "\n",
    "    y_true, y_pred = y_test, optimized_knn_model.predict(X_test)\n",
    "    print(classification_report(y_true, y_pred))\n",
    "    print()"
   ]
  },
  {
   "cell_type": "code",
   "execution_count": 14,
   "id": "9cf386ad-0dfc-403e-88d3-02350609b8de",
   "metadata": {},
   "outputs": [
    {
     "data": {
      "text/plain": [
       "[<matplotlib.lines.Line2D at 0x179f5d6d0>]"
      ]
     },
     "execution_count": 14,
     "metadata": {},
     "output_type": "execute_result"
    },
    {
     "data": {
      "image/png": "[encoded data removed]",
      "text/plain": [
       "<Figure size 432x288 with 1 Axes>"
      ]
     },
     "metadata": {
      "needs_background": "light"
     },
     "output_type": "display_data"
    }
   ],
   "source": [
    "import matplotlib.pyplot as plt\n",
    "import numpy as np\n",
    "\n",
    "fig, ax = plt.subplots()\n",
    "\n",
    "x_interval = np.arange(1, len(optimized_knn_model.cv_results_['mean_test_score'])+ 1)\n",
    "ax.scatter(x_interval, optimized_knn_model.cv_results_['mean_test_score'])\n",
    "ax.plot(x_interval, optimized_knn_model.cv_results_['mean_test_score'])"
   ]
  },
  {
   "cell_type": "markdown",
   "id": "d23ebec6-61e0-4cd4-aae8-127f1c686d93",
   "metadata": {},
   "source": [
    "## Parameters To Explore\n",
    "* n_neighbours - how many \"nearby\" points should be consulted?\n",
    "* algorithm - auto, ball_tree, kd_tree, brute\n",
    "  * ball_tree\n",
    "  * kd_tree \n",
    "  * auto - select from one of the two\n",
    "* leaf_size - might not be too relevant, just performance\n",
    "  * care more about accuracy this particular round\n",
    "* metric - how the distance between points is determined\n",
    "* metric_params - additional keywords for metric function\n",
    "* n_jobs: number of parallel jobs to run for neighbours search\n",
    "  * always set to n=-1"
   ]
  },
  {
   "cell_type": "markdown",
   "id": "34f2fbb1-f1c0-42bc-a566-120df46fe3ca",
   "metadata": {},
   "source": [
    "https://towardsdatascience.com/a-simple-introduction-to-k-nearest-neighbors-algorithm-b3519ed98e\n",
    "    \n",
    "* In general, choose k = sqrt(N) where N is number of samples in training dataset\n",
    "  * with 80:20 split, sqrt(799) = 28.266... = 27\n",
    "* Try and keep the value of k odd in order to avoid confusion between two classes of data\n"
   ]
  },
  {
   "cell_type": "code",
   "execution_count": 39,
   "id": "c2cd04f3-96a8-4c2c-af81-a024c64ecd59",
   "metadata": {},
   "outputs": [],
   "source": [
    "# Get data out\n",
    "# def custom_weights(x):\n",
    "#    print(type(x))\n",
    "#    print(np.shape(x))\n",
    "# dimensions come out to (160/159, 27)\n",
    "\n",
    "# ignore\n",
    "# def custom_weights(x):\n",
    "#    full_arr = []\n",
    "#    row = []\n",
    "#    for row in x:\n",
    "#        for val in row:\n",
    "#            if val == 0:\n",
    "#                row.append(0)\n",
    "#            else:\n",
    "#                row.append(1/(val**2))\n",
    "#        full_arr.append(row)\n",
    "#        row = []\n",
    "#    return full_arr"
   ]
  },
  {
   "cell_type": "markdown",
   "id": "41ffc155-cfc3-448c-9bcf-7f76d4159aa7",
   "metadata": {},
   "source": [
    "# Weighted versus Uniform voting"
   ]
  },
  {
   "cell_type": "code",
   "execution_count": 43,
   "id": "70ba8969-ea2f-408d-9b11-2413ee3735f9",
   "metadata": {},
   "outputs": [
    {
     "name": "stdout",
     "output_type": "stream",
     "text": [
      "Best parameters set found on development set:\n",
      "\n",
      "{'n_neighbors': 27, 'weights': 'distance'}\n",
      "0.388 (+/-0.066) for {'n_neighbors': 27, 'weights': 'uniform'}\n",
      "0.400 (+/-0.062) for {'n_neighbors': 27, 'weights': 'distance'}\n",
      "              precision    recall  f1-score   support\n",
      "\n",
      "           0       0.20      0.07      0.11        14\n",
      "           1       0.57      0.73      0.64        11\n",
      "           2       0.00      0.00      0.00        26\n",
      "           3       0.57      0.33      0.42        24\n",
      "           4       0.37      0.48      0.42        27\n",
      "           5       0.16      0.50      0.24        16\n",
      "           6       0.31      0.83      0.45        18\n",
      "           7       0.76      0.57      0.65        23\n",
      "           8       0.00      0.00      0.00        21\n",
      "           9       0.17      0.05      0.08        20\n",
      "\n",
      "    accuracy                           0.34       200\n",
      "   macro avg       0.31      0.36      0.30       200\n",
      "weighted avg       0.31      0.34      0.29       200\n",
      "\n",
      "0.335\n"
     ]
    },
    {
     "name": "stderr",
     "output_type": "stream",
     "text": [
      "/Users/jzl/opt/anaconda3/envs/ECS-171/lib/python3.9/site-packages/sklearn/metrics/_classification.py:1248: UndefinedMetricWarning: Precision and F-score are ill-defined and being set to 0.0 in labels with no predicted samples. Use `zero_division` parameter to control this behavior.\n",
      "  _warn_prf(average, modifier, msg_start, len(result))\n",
      "/Users/jzl/opt/anaconda3/envs/ECS-171/lib/python3.9/site-packages/sklearn/metrics/_classification.py:1248: UndefinedMetricWarning: Precision and F-score are ill-defined and being set to 0.0 in labels with no predicted samples. Use `zero_division` parameter to control this behavior.\n",
      "  _warn_prf(average, modifier, msg_start, len(result))\n",
      "/Users/jzl/opt/anaconda3/envs/ECS-171/lib/python3.9/site-packages/sklearn/metrics/_classification.py:1248: UndefinedMetricWarning: Precision and F-score are ill-defined and being set to 0.0 in labels with no predicted samples. Use `zero_division` parameter to control this behavior.\n",
      "  _warn_prf(average, modifier, msg_start, len(result))\n"
     ]
    }
   ],
   "source": [
    "tuned_parameters = [{'n_neighbors': [27], \n",
    "                     'weights':['uniform', 'distance']}]\n",
    "\n",
    "scores = ['accuracy']\n",
    "\n",
    "for score in scores:\n",
    "    \n",
    "    optimized_knn_model = GridSearchCV(\n",
    "        KNeighborsClassifier(n_jobs=-1), tuned_parameters, scoring=score\n",
    "    )\n",
    "    optimized_knn_model.fit(X_train, y_train)\n",
    "    \n",
    "    print(\"Best parameters set found on development set:\")\n",
    "    print()\n",
    "    print(optimized_knn_model.best_params_)\n",
    "    means = optimized_knn_model.cv_results_['mean_test_score']\n",
    "    stds = optimized_knn_model.cv_results_['std_test_score']\n",
    "    for mean, std, params in zip(means, stds, optimized_knn_model.cv_results_['params']):\n",
    "        print(\"%0.3f (+/-%0.03f) for %r\"\n",
    "              % (mean, std * 2, params))\n",
    "\n",
    "    y_true, y_pred = y_test, optimized_knn_model.predict(X_test)\n",
    "    print(classification_report(y_true, y_pred))\n",
    "    print()\n",
    "    print(accuracy_score(y_true, y_pred))"
   ]
  },
  {
   "cell_type": "markdown",
   "id": "d30569b0-6ae2-49d8-9fac-67ca21f38286",
   "metadata": {},
   "source": [
    "# Distance Metric"
   ]
  },
  {
   "cell_type": "code",
   "execution_count": 44,
   "id": "88221208-cf7d-4c72-aaeb-6d6e270bf291",
   "metadata": {},
   "outputs": [
    {
     "name": "stdout",
     "output_type": "stream",
     "text": [
      "Best parameters set found on development set:\n",
      "\n",
      "{'metric': 'manhattan', 'n_neighbors': 27, 'weights': 'distance'}\n",
      "0.400 (+/-0.062) for {'metric': 'euclidean', 'n_neighbors': 27, 'weights': 'distance'}\n",
      "0.405 (+/-0.034) for {'metric': 'manhattan', 'n_neighbors': 27, 'weights': 'distance'}\n",
      "0.198 (+/-0.059) for {'metric': 'chebyshev', 'n_neighbors': 27, 'weights': 'distance'}\n",
      "0.337 (+/-0.082) for {'metric': 'hamming', 'n_neighbors': 27, 'weights': 'distance'}\n",
      "0.349 (+/-0.052) for {'metric': 'canberra', 'n_neighbors': 27, 'weights': 'distance'}\n",
      "0.382 (+/-0.054) for {'metric': 'braycurtis', 'n_neighbors': 27, 'weights': 'distance'}\n",
      "              precision    recall  f1-score   support\n",
      "\n",
      "           0       0.20      0.07      0.11        14\n",
      "           1       0.53      0.73      0.62        11\n",
      "           2       0.14      0.04      0.06        26\n",
      "           3       0.40      0.25      0.31        24\n",
      "           4       0.39      0.48      0.43        27\n",
      "           5       0.19      0.62      0.29        16\n",
      "           6       0.33      0.94      0.49        18\n",
      "           7       0.71      0.52      0.60        23\n",
      "           8       0.00      0.00      0.00        21\n",
      "           9       0.00      0.00      0.00        20\n",
      "\n",
      "    accuracy                           0.34       200\n",
      "   macro avg       0.29      0.37      0.29       200\n",
      "weighted avg       0.29      0.34      0.28       200\n",
      "\n",
      "\n",
      "0.34\n"
     ]
    },
    {
     "name": "stderr",
     "output_type": "stream",
     "text": [
      "/Users/jzl/opt/anaconda3/envs/ECS-171/lib/python3.9/site-packages/sklearn/metrics/_classification.py:1248: UndefinedMetricWarning: Precision and F-score are ill-defined and being set to 0.0 in labels with no predicted samples. Use `zero_division` parameter to control this behavior.\n",
      "  _warn_prf(average, modifier, msg_start, len(result))\n",
      "/Users/jzl/opt/anaconda3/envs/ECS-171/lib/python3.9/site-packages/sklearn/metrics/_classification.py:1248: UndefinedMetricWarning: Precision and F-score are ill-defined and being set to 0.0 in labels with no predicted samples. Use `zero_division` parameter to control this behavior.\n",
      "  _warn_prf(average, modifier, msg_start, len(result))\n",
      "/Users/jzl/opt/anaconda3/envs/ECS-171/lib/python3.9/site-packages/sklearn/metrics/_classification.py:1248: UndefinedMetricWarning: Precision and F-score are ill-defined and being set to 0.0 in labels with no predicted samples. Use `zero_division` parameter to control this behavior.\n",
      "  _warn_prf(average, modifier, msg_start, len(result))\n"
     ]
    }
   ],
   "source": [
    "tuned_parameters = [{'n_neighbors': [27], \n",
    "                     'weights':['distance'],\n",
    "                     'metric': ['euclidean', 'manhattan', 'chebyshev', 'hamming', 'canberra', 'braycurtis']}]\n",
    "\n",
    "scores = ['accuracy']\n",
    "\n",
    "for score in scores:\n",
    "    \n",
    "    optimized_knn_model = GridSearchCV(\n",
    "        KNeighborsClassifier(n_jobs=-1), tuned_parameters, scoring=score\n",
    "    )\n",
    "    optimized_knn_model.fit(X_train, y_train)\n",
    "    \n",
    "    print(\"Best parameters set found on development set:\")\n",
    "    print()\n",
    "    print(optimized_knn_model.best_params_)\n",
    "    means = optimized_knn_model.cv_results_['mean_test_score']\n",
    "    stds = optimized_knn_model.cv_results_['std_test_score']\n",
    "    for mean, std, params in zip(means, stds, optimized_knn_model.cv_results_['params']):\n",
    "        print(\"%0.3f (+/-%0.03f) for %r\"\n",
    "              % (mean, std * 2, params))\n",
    "\n",
    "    y_true, y_pred = y_test, optimized_knn_model.predict(X_test)\n",
    "    print(classification_report(y_true, y_pred))\n",
    "    print()\n",
    "    print(accuracy_score(y_true, y_pred))"
   ]
  },
  {
   "cell_type": "code",
   "execution_count": null,
   "id": "c178a2bb-7e64-4b14-bf53-d4997d3cf3dc",
   "metadata": {},
   "outputs": [],
   "source": [
    "# minkowski (p)\n",
    "# wminkowski (p,w)\n",
    "# seuclidean (V)\n",
    "# mahalanobis (V)"
   ]
  }
 ],
 "metadata": {
  "kernelspec": {
   "display_name": "Python 3",
   "language": "python",
   "name": "python3"
  },
  "language_info": {
   "codemirror_mode": {
    "name": "ipython",
    "version": 3
   },
   "file_extension": ".py",
   "mimetype": "text/x-python",
   "name": "python",
   "nbconvert_exporter": "python",
   "pygments_lexer": "ipython3",
   "version": "3.9.2"
  }
 },
 "nbformat": 4,
 "nbformat_minor": 5
}
