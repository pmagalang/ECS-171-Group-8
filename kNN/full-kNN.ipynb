{
 "cells": [
  {
   "cell_type": "code",
   "execution_count": null,
   "id": "b6b25bcf-9eaf-41e3-b1ac-bdda96e7dd30",
   "metadata": {},
   "outputs": [],
   "source": [
    "# based off of https://scikit-learn.org/stable/auto_examples/classification/plot_digits_classification.html"
   ]
  },
  {
   "cell_type": "code",
   "execution_count": 1,
   "id": "81620962-7b1c-4a69-a6e5-4feff00696e0",
   "metadata": {},
   "outputs": [],
   "source": [
    "from skimage import io, color\n",
    "from skimage.transform import resize"
   ]
  },
  {
   "cell_type": "code",
   "execution_count": 3,
   "id": "12443ec7-0f6b-48ba-82c1-68f7f2b4857c",
   "metadata": {},
   "outputs": [],
   "source": [
    "import os \n",
    "from skimage import io\n",
    "\n",
    "genres = ['blues', 'classical', 'country', 'disco', 'hiphop', 'jazz', 'metal', 'pop', 'reggae', 'rock']\n",
    "\n",
    "# use to translate from integers to labels\n",
    "int_translator = {}\n",
    "for i, genre in enumerate(genres):\n",
    "    int_translator[i] = genre\n",
    "\n",
    "# Load files\n",
    "image_list = []\n",
    "labels = []\n",
    "\n",
    "for label, genre in enumerate(genres):\n",
    "    list_files = os.listdir('../mel-grams/' + genre)\n",
    "    for filename in list_files:\n",
    "        image_list.append(io.imread('../mel-grams/' + genre + '/' + filename))\n",
    "        labels.append(label)"
   ]
  },
  {
   "cell_type": "code",
   "execution_count": 4,
   "id": "34a6b3b6-9f36-44cc-b35b-b9188a510ad6",
   "metadata": {},
   "outputs": [],
   "source": [
    "from skimage import io, color\n",
    "from skimage.transform import resize\n",
    "\n",
    "def image_processor(img):\n",
    "    #img = color.rgb2gray(color.rgba2rgb(img))\n",
    "    #img = resize(img, (235,500))\n",
    "    img = img.reshape(-1)\n",
    "    return img\n",
    "\n",
    "# flatten images\n",
    "image_list = [image_processor(image) for image in image_list]"
   ]
  },
  {
   "cell_type": "code",
   "execution_count": 5,
   "id": "b5e98387-6ebf-4b2a-b780-a3bf82c6f3b0",
   "metadata": {},
   "outputs": [],
   "source": [
    "from sklearn.model_selection import train_test_split\n",
    "X_train, X_test, y_train, y_test = train_test_split(\n",
    "    image_list, labels, test_size=0.2, shuffle=True)"
   ]
  },
  {
   "cell_type": "code",
   "execution_count": 6,
   "id": "edaf215b-4ff3-4624-99fa-7e3f5c06ee56",
   "metadata": {},
   "outputs": [
    {
     "data": {
      "text/plain": [
       "KNeighborsClassifier()"
      ]
     },
     "execution_count": 6,
     "metadata": {},
     "output_type": "execute_result"
    }
   ],
   "source": [
    "# kNN\n",
    "from sklearn.neighbors import KNeighborsClassifier\n",
    "neigh = KNeighborsClassifier(n_neighbors=5)\n",
    "neigh.fit(X_train, y_train)"
   ]
  },
  {
   "cell_type": "code",
   "execution_count": 7,
   "id": "ca4c221e-6734-4ab8-988a-6f4502321039",
   "metadata": {},
   "outputs": [
    {
     "name": "stdout",
     "output_type": "stream",
     "text": [
      "Classification report for classifier KNeighborsClassifier():\n",
      "              precision    recall  f1-score   support\n",
      "\n",
      "           0       0.45      0.43      0.44        23\n",
      "           1       0.64      0.56      0.60        25\n",
      "           2       0.54      0.27      0.36        26\n",
      "           3       0.21      0.27      0.24        15\n",
      "           4       0.30      0.83      0.44        12\n",
      "           5       0.27      0.41      0.33        22\n",
      "           6       0.36      1.00      0.53        13\n",
      "           7       0.28      0.24      0.26        21\n",
      "           8       0.00      0.00      0.00        17\n",
      "           9       0.25      0.04      0.07        26\n",
      "\n",
      "    accuracy                           0.36       200\n",
      "   macro avg       0.33      0.40      0.33       200\n",
      "weighted avg       0.35      0.36      0.32       200\n",
      "\n",
      "\n"
     ]
    },
    {
     "name": "stderr",
     "output_type": "stream",
     "text": [
      "/Users/jzl/opt/anaconda3/envs/ECS-171/lib/python3.9/site-packages/sklearn/metrics/_classification.py:1248: UndefinedMetricWarning: Precision and F-score are ill-defined and being set to 0.0 in labels with no predicted samples. Use `zero_division` parameter to control this behavior.\n",
      "  _warn_prf(average, modifier, msg_start, len(result))\n",
      "/Users/jzl/opt/anaconda3/envs/ECS-171/lib/python3.9/site-packages/sklearn/metrics/_classification.py:1248: UndefinedMetricWarning: Precision and F-score are ill-defined and being set to 0.0 in labels with no predicted samples. Use `zero_division` parameter to control this behavior.\n",
      "  _warn_prf(average, modifier, msg_start, len(result))\n",
      "/Users/jzl/opt/anaconda3/envs/ECS-171/lib/python3.9/site-packages/sklearn/metrics/_classification.py:1248: UndefinedMetricWarning: Precision and F-score are ill-defined and being set to 0.0 in labels with no predicted samples. Use `zero_division` parameter to control this behavior.\n",
      "  _warn_prf(average, modifier, msg_start, len(result))\n"
     ]
    }
   ],
   "source": [
    "from sklearn import metrics\n",
    "\n",
    "predicted = neigh.predict(X_test)\n",
    "print(f\"Classification report for classifier {neigh}:\\n\"\n",
    "      f\"{metrics.classification_report(y_test, predicted)}\\n\")"
   ]
  },
  {
   "cell_type": "code",
   "execution_count": 9,
   "id": "308ba2e5-e0aa-439d-a53f-be434b70958c",
   "metadata": {},
   "outputs": [
    {
     "data": {
      "image/png": "[encoded data removed]",
      "text/plain": [
       "<Figure size 432x288 with 2 Axes>"
      ]
     },
     "metadata": {
      "needs_background": "light"
     },
     "output_type": "display_data"
    }
   ],
   "source": [
    "import matplotlib.pyplot as plt\n",
    "\n",
    "disp = metrics.plot_confusion_matrix(neigh, X_test, y_test)\n",
    "disp.figure_.suptitle(\"Confusion Matrix\")\n",
    "# print(f\"Confusion matrix:\\n{disp.confusion_matrix}\")\n",
    "\n",
    "plt.show()"
   ]
  },
  {
   "cell_type": "code",
   "execution_count": null,
   "id": "8666be6e-fbd7-45a7-b84a-3083ef6c7349",
   "metadata": {},
   "outputs": [],
   "source": []
  }
 ],
 "metadata": {
  "kernelspec": {
   "display_name": "Python 3",
   "language": "python",
   "name": "python3"
  },
  "language_info": {
   "codemirror_mode": {
    "name": "ipython",
    "version": 3
   },
   "file_extension": ".py",
   "mimetype": "text/x-python",
   "name": "python",
   "nbconvert_exporter": "python",
   "pygments_lexer": "ipython3",
   "version": "3.9.2"
  }
 },
 "nbformat": 4,
 "nbformat_minor": 5
}
