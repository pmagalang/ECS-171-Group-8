{
 "cells": [
  {
   "cell_type": "code",
   "execution_count": 1,
   "id": "b6b25bcf-9eaf-41e3-b1ac-bdda96e7dd30",
   "metadata": {},
   "outputs": [],
   "source": [
    "# based off of https://scikit-learn.org/stable/auto_examples/classification/plot_digits_classification.html"
   ]
  },
  {
   "cell_type": "code",
   "execution_count": 2,
   "id": "12443ec7-0f6b-48ba-82c1-68f7f2b4857c",
   "metadata": {},
   "outputs": [],
   "source": [
    "import helper"
   ]
  },
  {
   "cell_type": "code",
   "execution_count": 3,
   "id": "13274811-4b2b-4c64-8854-c4162099c7bb",
   "metadata": {},
   "outputs": [],
   "source": [
    "translator, data, targets = helper.get_data(\"../mel-grams\")"
   ]
  },
  {
   "cell_type": "code",
   "execution_count": 4,
   "id": "34a6b3b6-9f36-44cc-b35b-b9188a510ad6",
   "metadata": {},
   "outputs": [],
   "source": [
    "data = helper.image_processor(data)"
   ]
  },
  {
   "cell_type": "code",
   "execution_count": 5,
   "id": "b5e98387-6ebf-4b2a-b780-a3bf82c6f3b0",
   "metadata": {},
   "outputs": [],
   "source": [
    "from sklearn.model_selection import train_test_split\n",
    "X_train, X_test, y_train, y_test = train_test_split(\n",
    "    data, targets, test_size=0.2, shuffle=True, random_state=0)"
   ]
  },
  {
   "cell_type": "code",
   "execution_count": 6,
   "id": "edaf215b-4ff3-4624-99fa-7e3f5c06ee56",
   "metadata": {},
   "outputs": [
    {
     "data": {
      "text/plain": [
       "KNeighborsClassifier(n_neighbors=27, weights='distance')"
      ]
     },
     "execution_count": 6,
     "metadata": {},
     "output_type": "execute_result"
    }
   ],
   "source": [
    "# kNN\n",
    "from sklearn.neighbors import KNeighborsClassifier\n",
    "neigh = KNeighborsClassifier(n_neighbors=27,weights='distance')\n",
    "neigh.fit(X_train, y_train)"
   ]
  },
  {
   "cell_type": "code",
   "execution_count": 7,
   "id": "ca4c221e-6734-4ab8-988a-6f4502321039",
   "metadata": {},
   "outputs": [
    {
     "name": "stdout",
     "output_type": "stream",
     "text": [
      "Classification report for classifier KNeighborsClassifier(n_neighbors=27, weights='distance'):\n",
      "              precision    recall  f1-score   support\n",
      "\n",
      "           0       0.20      0.07      0.11        14\n",
      "           1       0.57      0.73      0.64        11\n",
      "           2       0.00      0.00      0.00        26\n",
      "           3       0.57      0.33      0.42        24\n",
      "           4       0.37      0.48      0.42        27\n",
      "           5       0.16      0.50      0.24        16\n",
      "           6       0.31      0.83      0.45        18\n",
      "           7       0.76      0.57      0.65        23\n",
      "           8       0.00      0.00      0.00        21\n",
      "           9       0.17      0.05      0.08        20\n",
      "\n",
      "    accuracy                           0.34       200\n",
      "   macro avg       0.31      0.36      0.30       200\n",
      "weighted avg       0.31      0.34      0.29       200\n",
      "\n",
      "\n"
     ]
    },
    {
     "name": "stderr",
     "output_type": "stream",
     "text": [
      "/Users/jzl/opt/anaconda3/envs/ECS-171/lib/python3.9/site-packages/sklearn/metrics/_classification.py:1248: UndefinedMetricWarning: Precision and F-score are ill-defined and being set to 0.0 in labels with no predicted samples. Use `zero_division` parameter to control this behavior.\n",
      "  _warn_prf(average, modifier, msg_start, len(result))\n",
      "/Users/jzl/opt/anaconda3/envs/ECS-171/lib/python3.9/site-packages/sklearn/metrics/_classification.py:1248: UndefinedMetricWarning: Precision and F-score are ill-defined and being set to 0.0 in labels with no predicted samples. Use `zero_division` parameter to control this behavior.\n",
      "  _warn_prf(average, modifier, msg_start, len(result))\n",
      "/Users/jzl/opt/anaconda3/envs/ECS-171/lib/python3.9/site-packages/sklearn/metrics/_classification.py:1248: UndefinedMetricWarning: Precision and F-score are ill-defined and being set to 0.0 in labels with no predicted samples. Use `zero_division` parameter to control this behavior.\n",
      "  _warn_prf(average, modifier, msg_start, len(result))\n"
     ]
    }
   ],
   "source": [
    "from sklearn import metrics\n",
    "\n",
    "predicted = neigh.predict(X_test)\n",
    "print(f\"Classification report for classifier {neigh}:\\n\"\n",
    "      f\"{metrics.classification_report(y_test, predicted)}\\n\")"
   ]
  },
  {
   "cell_type": "code",
   "execution_count": 8,
   "id": "308ba2e5-e0aa-439d-a53f-be434b70958c",
   "metadata": {},
   "outputs": [
    {
     "data": {
      "image/png": "[encoded data removed]",
      "text/plain": [
       "<Figure size 432x288 with 2 Axes>"
      ]
     },
     "metadata": {
      "needs_background": "light"
     },
     "output_type": "display_data"
    }
   ],
   "source": [
    "import matplotlib.pyplot as plt\n",
    "\n",
    "disp = metrics.plot_confusion_matrix(neigh, X_test, y_test)\n",
    "disp.figure_.suptitle(\"Confusion Matrix\")\n",
    "# print(f\"Confusion matrix:\\n{disp.confusion_matrix}\")\n",
    "\n",
    "plt.show()"
   ]
  },
  {
   "cell_type": "markdown",
   "id": "217bd146-e6f8-40b2-9f1c-84242961db94",
   "metadata": {},
   "source": [
    "## Convert RGBA to RGB\n",
    "See: https://www.w3schools.com/html/html_colors_rgb.asp \n",
    "RGBA is just RGB with an added value to determine opacity"
   ]
  },
  {
   "cell_type": "markdown",
   "id": "71d81ff2-b4de-4f1b-91f5-6df304d174c2",
   "metadata": {},
   "source": [
    "performance seems to have deteriorated, see confusion matrix"
   ]
  },
  {
   "cell_type": "code",
   "execution_count": 9,
   "id": "03da1683-f585-4b56-bc82-9c30628057bd",
   "metadata": {},
   "outputs": [],
   "source": [
    "translator, data, targets = helper.get_data(\"../mel-grams\")\n",
    "\n",
    "# bypass the image processor in helper to invoke skimage \"color\" directly\n",
    "from skimage import color\n",
    "data = [color.rgba2rgb(img).reshape(-1) for img in data]"
   ]
  },
  {
   "cell_type": "code",
   "execution_count": 10,
   "id": "34fd9888-d0cd-4be2-bafb-07ed8bfca536",
   "metadata": {},
   "outputs": [],
   "source": [
    "from sklearn.model_selection import train_test_split\n",
    "X_train, X_test, y_train, y_test = train_test_split(\n",
    "    data, targets, test_size=0.2, shuffle=True, random_state=0)"
   ]
  },
  {
   "cell_type": "code",
   "execution_count": 11,
   "id": "5d4296d2-76d5-4c6c-957e-2ed6a729923b",
   "metadata": {},
   "outputs": [
    {
     "data": {
      "text/plain": [
       "KNeighborsClassifier(n_neighbors=27, weights='distance')"
      ]
     },
     "execution_count": 11,
     "metadata": {},
     "output_type": "execute_result"
    }
   ],
   "source": [
    "from sklearn.neighbors import KNeighborsClassifier\n",
    "neigh = KNeighborsClassifier(n_neighbors=27,weights='distance')\n",
    "neigh.fit(X_train, y_train)"
   ]
  },
  {
   "cell_type": "code",
   "execution_count": 12,
   "id": "c231708b-6d95-43a6-b971-746e6edba670",
   "metadata": {},
   "outputs": [
    {
     "name": "stdout",
     "output_type": "stream",
     "text": [
      "Classification report for classifier KNeighborsClassifier(n_neighbors=27, weights='distance'):\n",
      "              precision    recall  f1-score   support\n",
      "\n",
      "           0       0.20      0.07      0.11        14\n",
      "           1       0.57      0.73      0.64        11\n",
      "           2       0.00      0.00      0.00        26\n",
      "           3       0.57      0.33      0.42        24\n",
      "           4       0.37      0.48      0.42        27\n",
      "           5       0.16      0.50      0.24        16\n",
      "           6       0.31      0.83      0.45        18\n",
      "           7       0.76      0.57      0.65        23\n",
      "           8       0.00      0.00      0.00        21\n",
      "           9       0.17      0.05      0.08        20\n",
      "\n",
      "    accuracy                           0.34       200\n",
      "   macro avg       0.31      0.36      0.30       200\n",
      "weighted avg       0.31      0.34      0.29       200\n",
      "\n",
      "\n"
     ]
    },
    {
     "name": "stderr",
     "output_type": "stream",
     "text": [
      "/Users/jzl/opt/anaconda3/envs/ECS-171/lib/python3.9/site-packages/sklearn/metrics/_classification.py:1248: UndefinedMetricWarning: Precision and F-score are ill-defined and being set to 0.0 in labels with no predicted samples. Use `zero_division` parameter to control this behavior.\n",
      "  _warn_prf(average, modifier, msg_start, len(result))\n",
      "/Users/jzl/opt/anaconda3/envs/ECS-171/lib/python3.9/site-packages/sklearn/metrics/_classification.py:1248: UndefinedMetricWarning: Precision and F-score are ill-defined and being set to 0.0 in labels with no predicted samples. Use `zero_division` parameter to control this behavior.\n",
      "  _warn_prf(average, modifier, msg_start, len(result))\n",
      "/Users/jzl/opt/anaconda3/envs/ECS-171/lib/python3.9/site-packages/sklearn/metrics/_classification.py:1248: UndefinedMetricWarning: Precision and F-score are ill-defined and being set to 0.0 in labels with no predicted samples. Use `zero_division` parameter to control this behavior.\n",
      "  _warn_prf(average, modifier, msg_start, len(result))\n"
     ]
    }
   ],
   "source": [
    "from sklearn import metrics\n",
    "\n",
    "predicted = neigh.predict(X_test)\n",
    "print(f\"Classification report for classifier {neigh}:\\n\"\n",
    "      f\"{metrics.classification_report(y_test, predicted)}\\n\")"
   ]
  },
  {
   "cell_type": "code",
   "execution_count": 13,
   "id": "c7404fdc-d4f8-4826-9330-9f761a313744",
   "metadata": {},
   "outputs": [
    {
     "data": {
      "image/png": "[encoded data removed]",
      "text/plain": [
       "<Figure size 432x288 with 2 Axes>"
      ]
     },
     "metadata": {
      "needs_background": "light"
     },
     "output_type": "display_data"
    }
   ],
   "source": [
    "import matplotlib.pyplot as plt\n",
    "\n",
    "disp = metrics.plot_confusion_matrix(neigh, X_test, y_test)\n",
    "disp.figure_.suptitle(\"Confusion Matrix\")\n",
    "# print(f\"Confusion matrix:\\n{disp.confusion_matrix}\")\n",
    "\n",
    "plt.show()"
   ]
  },
  {
   "cell_type": "markdown",
   "id": "2c0b4799-9593-4bfa-a392-9c89d73ac172",
   "metadata": {},
   "source": [
    "# Training with Chroma"
   ]
  },
  {
   "cell_type": "code",
   "execution_count": 14,
   "id": "5c0b76a0-b9bc-471f-9e7a-d91c25285dab",
   "metadata": {},
   "outputs": [],
   "source": [
    "import helper\n",
    "translator, data, targets = helper.get_data(\"../chroma\")\n",
    "data = helper.image_processor(data)"
   ]
  },
  {
   "cell_type": "code",
   "execution_count": 15,
   "id": "e8fe63f3-833c-423c-8f25-9c8d083582d7",
   "metadata": {},
   "outputs": [],
   "source": [
    "from sklearn.model_selection import train_test_split\n",
    "X_train, X_test, y_train, y_test = train_test_split(\n",
    "    data, targets, test_size=0.2, shuffle=True, random_state=0)"
   ]
  },
  {
   "cell_type": "code",
   "execution_count": 16,
   "id": "101fec80-53ef-4395-bc5a-cb66b6699235",
   "metadata": {},
   "outputs": [
    {
     "data": {
      "text/plain": [
       "KNeighborsClassifier(n_neighbors=27, weights='distance')"
      ]
     },
     "execution_count": 16,
     "metadata": {},
     "output_type": "execute_result"
    }
   ],
   "source": [
    "# kNN\n",
    "from sklearn.neighbors import KNeighborsClassifier\n",
    "neigh = KNeighborsClassifier(n_neighbors=27,weights='distance')\n",
    "neigh.fit(X_train, y_train)"
   ]
  },
  {
   "cell_type": "code",
   "execution_count": 17,
   "id": "3019e42e-6d47-44b7-97a1-b4abcc725850",
   "metadata": {},
   "outputs": [
    {
     "name": "stdout",
     "output_type": "stream",
     "text": [
      "Classification report for classifier KNeighborsClassifier(n_neighbors=27, weights='distance'):\n",
      "              precision    recall  f1-score   support\n",
      "\n",
      "           0       0.00      0.00      0.00        14\n",
      "           1       0.20      0.27      0.23        11\n",
      "           2       0.46      0.46      0.46        26\n",
      "           3       0.44      0.33      0.38        24\n",
      "           4       0.25      0.22      0.24        27\n",
      "           5       1.00      0.19      0.32        16\n",
      "           6       0.15      0.67      0.24        18\n",
      "           7       0.25      0.09      0.13        23\n",
      "           8       0.00      0.00      0.00        21\n",
      "           9       0.11      0.10      0.11        20\n",
      "\n",
      "    accuracy                           0.24       200\n",
      "   macro avg       0.29      0.23      0.21       200\n",
      "weighted avg       0.29      0.24      0.22       200\n",
      "\n",
      "\n"
     ]
    }
   ],
   "source": [
    "from sklearn import metrics\n",
    "\n",
    "predicted = neigh.predict(X_test)\n",
    "print(f\"Classification report for classifier {neigh}:\\n\"\n",
    "      f\"{metrics.classification_report(y_test, predicted)}\\n\")"
   ]
  },
  {
   "cell_type": "code",
   "execution_count": 18,
   "id": "6e6ba2a2-60fa-4c7c-bc63-a4c892d665d1",
   "metadata": {},
   "outputs": [
    {
     "data": {
      "image/png": "[encoded data removed]",
      "text/plain": [
       "<Figure size 432x288 with 2 Axes>"
      ]
     },
     "metadata": {
      "needs_background": "light"
     },
     "output_type": "display_data"
    }
   ],
   "source": [
    "import matplotlib.pyplot as plt\n",
    "\n",
    "disp = metrics.plot_confusion_matrix(neigh, X_test, y_test)\n",
    "disp.figure_.suptitle(\"Confusion Matrix\")\n",
    "# print(f\"Confusion matrix:\\n{disp.confusion_matrix}\")\n",
    "\n",
    "plt.show()"
   ]
  },
  {
   "cell_type": "markdown",
   "id": "e9d3f61c-bc5a-4ceb-9efe-7a360ef0feed",
   "metadata": {},
   "source": [
    "# Training with Tonnetz"
   ]
  },
  {
   "cell_type": "code",
   "execution_count": 19,
   "id": "cad2a74a-8346-44d1-94bb-16e97041f0f1",
   "metadata": {},
   "outputs": [],
   "source": [
    "import helper\n",
    "translator, data, targets = helper.get_data(\"../tonnetz\")\n",
    "data = helper.image_processor(data)"
   ]
  },
  {
   "cell_type": "code",
   "execution_count": 20,
   "id": "f2ed5430-bf75-40b6-833d-47f907ac60e3",
   "metadata": {},
   "outputs": [],
   "source": [
    "from sklearn.model_selection import train_test_split\n",
    "X_train, X_test, y_train, y_test = train_test_split(\n",
    "    data, targets, test_size=0.2, shuffle=True, random_state=0)"
   ]
  },
  {
   "cell_type": "code",
   "execution_count": 21,
   "id": "ee319ae1-8e89-417f-a50f-6150b3f5b0dc",
   "metadata": {},
   "outputs": [
    {
     "data": {
      "text/plain": [
       "KNeighborsClassifier(n_neighbors=27, weights='distance')"
      ]
     },
     "execution_count": 21,
     "metadata": {},
     "output_type": "execute_result"
    }
   ],
   "source": [
    "# kNN\n",
    "from sklearn.neighbors import KNeighborsClassifier\n",
    "neigh = KNeighborsClassifier(n_neighbors=27,weights='distance')\n",
    "neigh.fit(X_train, y_train)"
   ]
  },
  {
   "cell_type": "code",
   "execution_count": 22,
   "id": "93b5247b-25d3-472d-833f-b2ac005344e9",
   "metadata": {},
   "outputs": [
    {
     "name": "stdout",
     "output_type": "stream",
     "text": [
      "Classification report for classifier KNeighborsClassifier(n_neighbors=27, weights='distance'):\n",
      "              precision    recall  f1-score   support\n",
      "\n",
      "           0       0.17      0.14      0.15        14\n",
      "           1       0.00      0.00      0.00        11\n",
      "           2       1.00      0.08      0.14        26\n",
      "           3       0.50      0.04      0.08        24\n",
      "           4       0.15      0.89      0.26        27\n",
      "           5       1.00      0.19      0.32        16\n",
      "           6       0.00      0.00      0.00        18\n",
      "           7       0.27      0.13      0.18        23\n",
      "           8       0.00      0.00      0.00        21\n",
      "           9       0.12      0.05      0.07        20\n",
      "\n",
      "    accuracy                           0.18       200\n",
      "   macro avg       0.32      0.15      0.12       200\n",
      "weighted avg       0.35      0.18      0.13       200\n",
      "\n",
      "\n"
     ]
    },
    {
     "name": "stderr",
     "output_type": "stream",
     "text": [
      "/Users/jzl/opt/anaconda3/envs/ECS-171/lib/python3.9/site-packages/sklearn/metrics/_classification.py:1248: UndefinedMetricWarning: Precision and F-score are ill-defined and being set to 0.0 in labels with no predicted samples. Use `zero_division` parameter to control this behavior.\n",
      "  _warn_prf(average, modifier, msg_start, len(result))\n",
      "/Users/jzl/opt/anaconda3/envs/ECS-171/lib/python3.9/site-packages/sklearn/metrics/_classification.py:1248: UndefinedMetricWarning: Precision and F-score are ill-defined and being set to 0.0 in labels with no predicted samples. Use `zero_division` parameter to control this behavior.\n",
      "  _warn_prf(average, modifier, msg_start, len(result))\n",
      "/Users/jzl/opt/anaconda3/envs/ECS-171/lib/python3.9/site-packages/sklearn/metrics/_classification.py:1248: UndefinedMetricWarning: Precision and F-score are ill-defined and being set to 0.0 in labels with no predicted samples. Use `zero_division` parameter to control this behavior.\n",
      "  _warn_prf(average, modifier, msg_start, len(result))\n"
     ]
    }
   ],
   "source": [
    "from sklearn import metrics\n",
    "\n",
    "predicted = neigh.predict(X_test)\n",
    "print(f\"Classification report for classifier {neigh}:\\n\"\n",
    "      f\"{metrics.classification_report(y_test, predicted)}\\n\")"
   ]
  },
  {
   "cell_type": "code",
   "execution_count": 23,
   "id": "10658838-de61-4750-bb83-ed45ab5be3ef",
   "metadata": {},
   "outputs": [
    {
     "data": {
      "image/png": "[encoded data removed]",
      "text/plain": [
       "<Figure size 432x288 with 2 Axes>"
      ]
     },
     "metadata": {
      "needs_background": "light"
     },
     "output_type": "display_data"
    }
   ],
   "source": [
    "import matplotlib.pyplot as plt\n",
    "\n",
    "disp = metrics.plot_confusion_matrix(neigh, X_test, y_test)\n",
    "disp.figure_.suptitle(\"Confusion Matrix\")\n",
    "# print(f\"Confusion matrix:\\n{disp.confusion_matrix}\")\n",
    "\n",
    "plt.show()"
   ]
  },
  {
   "cell_type": "code",
   "execution_count": 24,
   "id": "2bd9c8cf-bb9e-4d4e-ad64-e2f3dfab1559",
   "metadata": {},
   "outputs": [
    {
     "name": "stdout",
     "output_type": "stream",
     "text": [
      "{0: 'blues', 1: 'classical', 2: 'country', 3: 'disco', 4: 'hiphop', 5: 'jazz', 6: 'metal', 7: 'pop', 8: 'reggae', 9: 'rock'}\n",
      "{0: 'blues', 1: 'classical', 2: 'country', 3: 'disco', 4: 'hiphop', 5: 'jazz', 6: 'metal', 7: 'pop', 8: 'reggae', 9: 'rock'}\n",
      "{0: 'blues', 1: 'classical', 2: 'country', 3: 'disco', 4: 'hiphop', 5: 'jazz', 6: 'metal', 7: 'pop', 8: 'reggae', 9: 'rock'}\n",
      "{0: 'blues', 1: 'classical', 2: 'country', 3: 'disco', 4: 'hiphop', 5: 'jazz', 6: 'metal', 7: 'pop', 8: 'reggae', 9: 'rock'}\n",
      "{0: 'blues', 1: 'classical', 2: 'country', 3: 'disco', 4: 'hiphop', 5: 'jazz', 6: 'metal', 7: 'pop', 8: 'reggae', 9: 'rock'}\n",
      "{0: 'blues', 1: 'classical', 2: 'country', 3: 'disco', 4: 'hiphop', 5: 'jazz', 6: 'metal', 7: 'pop', 8: 'reggae', 9: 'rock'}\n",
      "{0: 'blues', 1: 'classical', 2: 'country', 3: 'disco', 4: 'hiphop', 5: 'jazz', 6: 'metal', 7: 'pop', 8: 'reggae', 9: 'rock'}\n",
      "{0: 'blues', 1: 'classical', 2: 'country', 3: 'disco', 4: 'hiphop', 5: 'jazz', 6: 'metal', 7: 'pop', 8: 'reggae', 9: 'rock'}\n",
      "{0: 'blues', 1: 'classical', 2: 'country', 3: 'disco', 4: 'hiphop', 5: 'jazz', 6: 'metal', 7: 'pop', 8: 'reggae', 9: 'rock'}\n",
      "{0: 'blues', 1: 'classical', 2: 'country', 3: 'disco', 4: 'hiphop', 5: 'jazz', 6: 'metal', 7: 'pop', 8: 'reggae', 9: 'rock'}\n"
     ]
    }
   ],
   "source": [
    "for i, val in enumerate(translator):\n",
    "    print(translator)"
   ]
  },
  {
   "cell_type": "code",
   "execution_count": null,
   "id": "f93ae781-6907-414f-a704-70402e181095",
   "metadata": {},
   "outputs": [],
   "source": []
  }
 ],
 "metadata": {
  "kernelspec": {
   "display_name": "Python 3",
   "language": "python",
   "name": "python3"
  },
  "language_info": {
   "codemirror_mode": {
    "name": "ipython",
    "version": 3
   },
   "file_extension": ".py",
   "mimetype": "text/x-python",
   "name": "python",
   "nbconvert_exporter": "python",
   "pygments_lexer": "ipython3",
   "version": "3.9.2"
  }
 },
 "nbformat": 4,
 "nbformat_minor": 5
}
