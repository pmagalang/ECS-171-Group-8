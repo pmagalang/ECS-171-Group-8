{
 "cells": [
  {
   "cell_type": "code",
   "execution_count": 1,
   "metadata": {},
   "outputs": [],
   "source": [
    "# for wav files in each folder, generate the proper spectrogram figures"
   ]
  },
  {
   "cell_type": "code",
   "execution_count": 2,
   "metadata": {},
   "outputs": [],
   "source": [
    "import librosa\n",
    "import librosa.display\n",
    "import matplotlib.pyplot as plt\n",
    "import numpy as np\n",
    "import os\n",
    "import sys"
   ]
  },
  {
   "cell_type": "code",
   "execution_count": 3,
   "metadata": {},
   "outputs": [],
   "source": [
    "\n",
    "def gen_spectrogram(target_folder, output_folder):\n",
    "    # hardcoded songs per folder for now\n",
    "    genres = os.listdir(target_folder)\n",
    "    # try to make the folder if it doesn't exist\n",
    "    print(\"Generating Mel Spectrograms for each song in each Genre\")\n",
    "    print(\"This may take a while...\")\n",
    "    for genre in genres:\n",
    "        print(\"Generating mel-spectrograms for {}\".format(genre))\n",
    "        try: \n",
    "            os.makedirs(\"{}/{}\".format(output_folder, genre)) \n",
    "        except OSError as error: \n",
    "            print(error)  \n",
    "        songs = os.listdir(\"{}/{}\".format(target_folder,genre))\n",
    "        for j in range(len(songs)):\n",
    "            print(\"Song {} out of {} \".format(j+1, len(songs)), end='\\r')\n",
    "            # NOTE: file paths are relative!\n",
    "            # https://www.kite.com/python/answers/how-to-add-leading-zeros-to-a-number-in-python\n",
    "            file = \"{}.{}.wav\".format(genre, str(j).zfill(5))\n",
    "            \n",
    "            if not os.path.exists(\"./{}/{}/{}.png\".format(output_folder,genre,j)):\n",
    "                try:\n",
    "                    path = \"{}/{}/{}\".format(target_folder, genre, file)\n",
    "                    y, sr = librosa.load(path)\n",
    "                    mel_spect = librosa.feature.melspectrogram(y=y, sr=sr, n_fft=2048, hop_length=1024)\n",
    "                    mel_spect = librosa.power_to_db(mel_spect, ref=np.max)\n",
    "                    librosa.display.specshow(mel_spect, fmax=8000)\n",
    "                    plt.axis('off')\n",
    "                    plt.savefig(\"./{}/{}/{}.png\".format(output_folder,genre,j), bbox_inches=\"tight\",pad_inches = 0,transparent=True)\n",
    "                except Exception as exp:\n",
    "                    print(exp)"
   ]
  },
  {
   "cell_type": "code",
   "execution_count": 4,
   "metadata": {},
   "outputs": [],
   "source": [
    "#TODO:\n",
    "def gen_Tonnetz(target_folder, output_folder):\n",
    "    # hardcoded songs per folder for now\n",
    "    genres = os.listdir(target_folder)\n",
    "    # try to make the folder if it doesn't exist\n",
    "    print(\"Generating Mel Spectrograms for each song in each Genre\")\n",
    "    print(\"This may take a while...\")\n",
    "    for genre in genres:\n",
    "        print(\"Generating mel-spectrograms for {}\".format(genre))\n",
    "        try: \n",
    "            os.makedirs(\"{}/{}\".format(output_folder, genre)) \n",
    "        except OSError as error: \n",
    "            print(error)  \n",
    "        songs = os.listdir(\"{}/{}\".format(target_folder,genre))\n",
    "        for j in range(len(songs)):\n",
    "            print(\"Song {} out of {} \".format(j+1, len(songs)), end='\\r')\n",
    "            # NOTE: file paths are relative!\n",
    "            # https://www.kite.com/python/answers/how-to-add-leading-zeros-to-a-number-in-python\n",
    "            file = \"{}.{}.wav\".format(genre, str(j).zfill(5))\n",
    "            \n",
    "            if not os.path.exists(\"./{}/{}/{}.png\".format(output_folder,genre,j)):\n",
    "                try:\n",
    "                    path = \"{}/{}/{}\".format(target_folder, genre, file)\n",
    "                    y, sr = librosa.load(path)\n",
    "                    y = librosa.effects.harmonic(y)\n",
    "                    tonnetz = librosa.feature.tonnetz(y=y, sr=sr)\n",
    "                    librosa.display.specshow(tonnetz)\n",
    "                    plt.axis('off')\n",
    "                    plt.savefig(\"./{}/{}/{}.png\".format(output_folder,genre,j), bbox_inches=\"tight\",pad_inches = 0,transparent=True)\n",
    "                except Exception as exp:\n",
    "                    print(exp)"
   ]
  },
  {
   "cell_type": "code",
   "execution_count": 5,
   "metadata": {},
   "outputs": [],
   "source": [
    "#TODO:\n",
    "def gen_Chroma(target_folder, output_folder):\n",
    "    # hardcoded songs per folder for now\n",
    "    genres = os.listdir(target_folder)\n",
    "    # try to make the folder if it doesn't exist\n",
    "    print(\"Generating Mel Spectrograms for each song in each Genre\")\n",
    "    print(\"This may take a while...\")\n",
    "    for genre in genres:\n",
    "        print(\"Generating mel-spectrograms for {}\".format(genre))\n",
    "        try: \n",
    "            os.makedirs(\"{}/{}\".format(output_folder, genre)) \n",
    "        except OSError as error: \n",
    "            print(error)  \n",
    "        songs = os.listdir(\"{}/{}\".format(target_folder,genre))\n",
    "        for j in range(len(songs)):\n",
    "            print(\"Song {} out of {} \".format(j+1, len(songs)), end='\\r')\n",
    "            # NOTE: file paths are relative!\n",
    "            # https://www.kite.com/python/answers/how-to-add-leading-zeros-to-a-number-in-python\n",
    "            file = \"{}.{}.wav\".format(genre, str(j).zfill(5))\n",
    "            \n",
    "            if not os.path.exists(\"./{}/{}/{}.png\".format(output_folder,genre,j)):\n",
    "                try:\n",
    "                    path = \"{}/{}/{}\".format(target_folder, genre, file)\n",
    "                    y, sr = librosa.load(path)\n",
    "                    y = librosa.effects.harmonic(y)\n",
    "                    librosa.display.specshow(librosa.feature.chroma_cqt(y, sr=sr), y_axis='chroma', x_axis='time')\n",
    "                    plt.axis('off')\n",
    "                    plt.savefig(\"./{}/{}/{}.png\".format(output_folder,genre,j), bbox_inches=\"tight\",pad_inches = 0,transparent=True)\n",
    "                except Exception as exp:\n",
    "                    print(exp)"
   ]
  },
  {
   "cell_type": "code",
   "execution_count": 6,
   "metadata": {},
   "outputs": [
    {
     "name": "stdout",
     "output_type": "stream",
     "text": [
      "Generating Mel Spectrograms for each song in each Genre\n",
      "This may take a while...\n",
      "Generating mel-spectrograms for blues\n",
      "Generating mel-spectrograms for classical\n",
      "Generating mel-spectrograms for country\n",
      "Generating mel-spectrograms for disco\n",
      "Generating mel-spectrograms for hiphop\n",
      "Generating mel-spectrograms for jazz\n",
      "Song 55 out of 100 \n",
      "Song 56 out of 100 \r"
     ]
    },
    {
     "name": "stderr",
     "output_type": "stream",
     "text": [
      "C:\\Users\\Nick\\anaconda3\\lib\\site-packages\\librosa\\core\\audio.py:162: UserWarning: PySoundFile failed. Trying audioread instead.\n",
      "  warnings.warn(\"PySoundFile failed. Trying audioread instead.\")\n"
     ]
    },
    {
     "name": "stdout",
     "output_type": "stream",
     "text": [
      "Generating mel-spectrograms for metal\n",
      "Generating mel-spectrograms for pop\n",
      "Generating mel-spectrograms for reggae\n",
      "Generating mel-spectrograms for rock\n",
      "Song 100 out of 100 \r"
     ]
    },
    {
     "data": {
      "image/png": "[encoded data removed]",
      "text/plain": [
       "<Figure size 432x288 with 1 Axes>"
      ]
     },
     "metadata": {
      "needs_background": "light"
     },
     "output_type": "display_data"
    }
   ],
   "source": [
    "#gen_spectrogram(\"genres_original\",\"mel-grams\")\n",
    "#gen_Tonnetz(\"genres_original\",\"tonnetz\")\n",
    "gen_Chroma(\"genres_original\",\"chroma\")"
   ]
  },
  {
   "cell_type": "code",
   "execution_count": null,
   "metadata": {},
   "outputs": [],
   "source": []
  },
  {
   "cell_type": "code",
   "execution_count": null,
   "metadata": {},
   "outputs": [],
   "source": []
  }
 ],
 "metadata": {
  "kernelspec": {
   "display_name": "Python 3",
   "language": "python",
   "name": "python3"
  },
  "language_info": {
   "codemirror_mode": {
    "name": "ipython",
    "version": 3
   },
   "file_extension": ".py",
   "mimetype": "text/x-python",
   "name": "python",
   "nbconvert_exporter": "python",
   "pygments_lexer": "ipython3",
   "version": "3.8.3"
  }
 },
 "nbformat": 4,
 "nbformat_minor": 5
}
