{
 "cells": [
  {
   "cell_type": "code",
   "execution_count": 2,
   "id": "ede15222",
   "metadata": {},
   "outputs": [],
   "source": [
    "import tensorflow as tf\n",
    "from tensorflow import keras\n",
    "from tensorflow.keras import layers"
   ]
  },
  {
   "cell_type": "code",
   "execution_count": 4,
   "id": "4395d80c",
   "metadata": {},
   "outputs": [
    {
     "name": "stdout",
     "output_type": "stream",
     "text": [
      "Found 999 files belonging to 10 classes.\n",
      "Using 800 files for training.\n",
      "Found 999 files belonging to 10 classes.\n",
      "Using 199 files for validation.\n"
     ]
    },
    {
     "ename": "AttributeError",
     "evalue": "'BatchDataset' object has no attribute 'classes'",
     "output_type": "error",
     "traceback": [
      "\u001b[0;31m---------------------------------------------------------------------------\u001b[0m",
      "\u001b[0;31mAttributeError\u001b[0m                            Traceback (most recent call last)",
      "\u001b[0;32m<ipython-input-4-243c5a5564a1>\u001b[0m in \u001b[0;36m<module>\u001b[0;34m\u001b[0m\n\u001b[1;32m     21\u001b[0m     \u001b[0mbatch_size\u001b[0m\u001b[0;34m=\u001b[0m\u001b[0mbatch_size\u001b[0m\u001b[0;34m,\u001b[0m\u001b[0;34m\u001b[0m\u001b[0;34m\u001b[0m\u001b[0m\n\u001b[1;32m     22\u001b[0m )\n\u001b[0;32m---> 23\u001b[0;31m \u001b[0mtrain_ds\u001b[0m\u001b[0;34m.\u001b[0m\u001b[0mclasses\u001b[0m\u001b[0;34m\u001b[0m\u001b[0;34m\u001b[0m\u001b[0m\n\u001b[0m",
      "\u001b[0;31mAttributeError\u001b[0m: 'BatchDataset' object has no attribute 'classes'"
     ]
    }
   ],
   "source": [
    "# keras image classification from scratch: (See README for URL)\n",
    "image_size = (350,230)\n",
    "batch_size = 32\n",
    "\n",
    "train_ds = tf.keras.preprocessing.image_dataset_from_directory(\n",
    "    \"mel-grams\",\n",
    "    label_mode=\"categorical\",\n",
    "    validation_split=0.2,\n",
    "    subset=\"training\",\n",
    "    seed=1337,\n",
    "    image_size=image_size,\n",
    "    batch_size=batch_size,\n",
    ")\n",
    "val_ds = tf.keras.preprocessing.image_dataset_from_directory(\n",
    "    \"mel-grams\",\n",
    "    label_mode=\"categorical\",\n",
    "    validation_split=0.2,\n",
    "    subset=\"validation\",\n",
    "    seed=1337,\n",
    "    image_size=image_size,\n",
    "    batch_size=batch_size,\n",
    ")"
   ]
  },
  {
   "cell_type": "code",
   "execution_count": 3,
   "id": "99d7cc00",
   "metadata": {},
   "outputs": [
    {
     "name": "stdout",
     "output_type": "stream",
     "text": [
      "Model: \"sequential\"\n",
      "_________________________________________________________________\n",
      "Layer (type)                 Output Shape              Param #   \n",
      "=================================================================\n",
      "rescaling (Rescaling)        (None, 350, 230, 3)       0         \n",
      "_________________________________________________________________\n",
      "conv2d (Conv2D)              (None, 349, 228, 32)      608       \n",
      "_________________________________________________________________\n",
      "max_pooling2d (MaxPooling2D) (None, 174, 76, 32)       0         \n",
      "_________________________________________________________________\n",
      "conv2d_1 (Conv2D)            (None, 173, 74, 64)       12352     \n",
      "_________________________________________________________________\n",
      "max_pooling2d_1 (MaxPooling2 (None, 86, 24, 64)        0         \n",
      "_________________________________________________________________\n",
      "conv2d_2 (Conv2D)            (None, 85, 22, 128)       49280     \n",
      "_________________________________________________________________\n",
      "max_pooling2d_2 (MaxPooling2 (None, 42, 7, 128)        0         \n",
      "_________________________________________________________________\n",
      "flatten (Flatten)            (None, 37632)             0         \n",
      "_________________________________________________________________\n",
      "dense (Dense)                (None, 10)                376330    \n",
      "=================================================================\n",
      "Total params: 438,570\n",
      "Trainable params: 438,570\n",
      "Non-trainable params: 0\n",
      "_________________________________________________________________\n",
      "('Failed to import pydot. You must `pip install pydot` and install graphviz (https://graphviz.gitlab.io/download/), ', 'for `pydotprint` to work.')\n"
     ]
    }
   ],
   "source": [
    "model = keras.Sequential()\n",
    "# input layer\n",
    "model.add(keras.Input(shape=(350, 230, 3)))\n",
    "\n",
    "\n",
    "model.add(layers.experimental.preprocessing.Rescaling(1./255))\n",
    "model.add(layers.Conv2D(filters=32, kernel_size = (2,3), strides=1, activation=\"relu\"))\n",
    "model.add(layers.MaxPooling2D(pool_size=(2,3)))\n",
    "model.add(layers.Conv2D(filters=64, kernel_size=(2,3), strides=1, activation=\"relu\"))\n",
    "model.add(layers.MaxPooling2D(pool_size=(2,3)))\n",
    "model.add(layers.Conv2D(filters=128, kernel_size=(2,3), strides=1, activation=\"relu\"))\n",
    "model.add(layers.MaxPooling2D(pool_size=(2,3)))\n",
    "model.add(layers.Flatten())\n",
    "# a softmax activation will give us the percent likelyhood that a given image is a certain genre\n",
    "model.add(layers.Dense(10, activation='softmax'))\n",
    "model.summary()\n",
    "\n",
    "keras.utils.plot_model(model, show_shapes=True)"
   ]
  },
  {
   "cell_type": "code",
   "execution_count": 4,
   "id": "5dd63bd2",
   "metadata": {
    "scrolled": true
   },
   "outputs": [
    {
     "name": "stdout",
     "output_type": "stream",
     "text": [
      "Epoch 1/50\n",
      "25/25 [==============================] - 17s 634ms/step - loss: 2.2918 - accuracy: 0.1566 - val_loss: 1.9529 - val_accuracy: 0.2513\n",
      "Epoch 2/50\n",
      "25/25 [==============================] - 16s 601ms/step - loss: 1.8384 - accuracy: 0.3275 - val_loss: 1.6503 - val_accuracy: 0.3970\n",
      "Epoch 3/50\n",
      "25/25 [==============================] - 15s 593ms/step - loss: 1.4792 - accuracy: 0.4609 - val_loss: 1.3862 - val_accuracy: 0.4573\n",
      "Epoch 4/50\n",
      "25/25 [==============================] - 15s 593ms/step - loss: 1.2514 - accuracy: 0.5709 - val_loss: 1.2493 - val_accuracy: 0.5980\n",
      "Epoch 5/50\n",
      "25/25 [==============================] - 16s 605ms/step - loss: 1.1395 - accuracy: 0.6271 - val_loss: 1.3077 - val_accuracy: 0.5477\n",
      "Epoch 6/50\n",
      "25/25 [==============================] - 16s 597ms/step - loss: 1.0257 - accuracy: 0.6486 - val_loss: 1.1956 - val_accuracy: 0.5678\n",
      "Epoch 7/50\n",
      "25/25 [==============================] - 16s 606ms/step - loss: 0.9058 - accuracy: 0.6613 - val_loss: 1.2101 - val_accuracy: 0.5829\n",
      "Epoch 8/50\n",
      "25/25 [==============================] - 19s 719ms/step - loss: 0.8438 - accuracy: 0.7198 - val_loss: 1.0590 - val_accuracy: 0.6784\n",
      "Epoch 9/50\n",
      "25/25 [==============================] - 17s 668ms/step - loss: 0.6592 - accuracy: 0.7773 - val_loss: 1.1152 - val_accuracy: 0.6181\n",
      "Epoch 10/50\n",
      "25/25 [==============================] - 17s 638ms/step - loss: 0.5024 - accuracy: 0.8597 - val_loss: 0.9693 - val_accuracy: 0.6935\n",
      "Epoch 11/50\n",
      "25/25 [==============================] - 16s 633ms/step - loss: 0.4316 - accuracy: 0.8621 - val_loss: 1.5739 - val_accuracy: 0.6080\n",
      "Epoch 12/50\n",
      "25/25 [==============================] - 17s 676ms/step - loss: 0.5120 - accuracy: 0.8124 - val_loss: 1.0420 - val_accuracy: 0.6784\n",
      "Epoch 13/50\n",
      "25/25 [==============================] - 16s 618ms/step - loss: 0.3398 - accuracy: 0.8891 - val_loss: 1.2538 - val_accuracy: 0.6482\n",
      "Epoch 14/50\n",
      "25/25 [==============================] - 17s 643ms/step - loss: 0.2940 - accuracy: 0.9126 - val_loss: 1.1207 - val_accuracy: 0.6985\n",
      "Epoch 15/50\n",
      "25/25 [==============================] - 16s 631ms/step - loss: 0.2637 - accuracy: 0.8898 - val_loss: 1.0708 - val_accuracy: 0.7136\n",
      "Epoch 16/50\n",
      "25/25 [==============================] - 17s 663ms/step - loss: 0.1712 - accuracy: 0.9500 - val_loss: 1.2883 - val_accuracy: 0.6935\n",
      "Epoch 17/50\n",
      "25/25 [==============================] - 17s 671ms/step - loss: 0.1013 - accuracy: 0.9667 - val_loss: 1.1110 - val_accuracy: 0.7136\n",
      "Epoch 18/50\n",
      "25/25 [==============================] - 17s 659ms/step - loss: 0.0726 - accuracy: 0.9866 - val_loss: 1.2891 - val_accuracy: 0.6935\n",
      "Epoch 19/50\n",
      "25/25 [==============================] - 16s 617ms/step - loss: 0.0705 - accuracy: 0.9807 - val_loss: 1.2012 - val_accuracy: 0.7236\n",
      "Epoch 20/50\n",
      "25/25 [==============================] - 17s 655ms/step - loss: 0.0487 - accuracy: 0.9877 - val_loss: 1.2847 - val_accuracy: 0.7035\n",
      "Epoch 21/50\n",
      "25/25 [==============================] - 17s 664ms/step - loss: 0.0830 - accuracy: 0.9841 - val_loss: 1.1673 - val_accuracy: 0.7186\n",
      "Epoch 22/50\n",
      "25/25 [==============================] - 17s 667ms/step - loss: 0.0400 - accuracy: 0.9939 - val_loss: 1.3245 - val_accuracy: 0.7236\n",
      "Epoch 23/50\n",
      "25/25 [==============================] - 17s 667ms/step - loss: 0.0255 - accuracy: 0.9962 - val_loss: 1.2350 - val_accuracy: 0.7286\n",
      "Epoch 24/50\n",
      "25/25 [==============================] - 16s 637ms/step - loss: 0.0262 - accuracy: 0.9948 - val_loss: 1.2963 - val_accuracy: 0.7387\n",
      "Epoch 25/50\n",
      "25/25 [==============================] - 17s 641ms/step - loss: 0.0166 - accuracy: 0.9960 - val_loss: 1.5839 - val_accuracy: 0.6734\n",
      "Epoch 26/50\n",
      "25/25 [==============================] - 16s 637ms/step - loss: 0.0520 - accuracy: 0.9869 - val_loss: 1.3541 - val_accuracy: 0.7286\n",
      "Epoch 27/50\n",
      "25/25 [==============================] - 17s 658ms/step - loss: 0.0148 - accuracy: 0.9972 - val_loss: 1.3209 - val_accuracy: 0.7286\n",
      "Epoch 28/50\n",
      "25/25 [==============================] - 17s 657ms/step - loss: 0.0147 - accuracy: 0.9983 - val_loss: 1.2921 - val_accuracy: 0.7136\n",
      "Epoch 29/50\n",
      "25/25 [==============================] - 17s 665ms/step - loss: 0.0144 - accuracy: 0.9979 - val_loss: 1.4034 - val_accuracy: 0.7487\n",
      "Epoch 30/50\n",
      "25/25 [==============================] - 17s 646ms/step - loss: 0.0090 - accuracy: 0.9988 - val_loss: 1.6420 - val_accuracy: 0.6985\n",
      "Epoch 31/50\n",
      "25/25 [==============================] - 17s 657ms/step - loss: 0.0429 - accuracy: 0.9929 - val_loss: 1.4275 - val_accuracy: 0.7487\n",
      "Epoch 32/50\n",
      "25/25 [==============================] - 16s 603ms/step - loss: 0.0184 - accuracy: 0.9944 - val_loss: 1.4927 - val_accuracy: 0.7337\n",
      "Epoch 33/50\n",
      "25/25 [==============================] - 17s 647ms/step - loss: 0.0089 - accuracy: 0.9985 - val_loss: 1.6830 - val_accuracy: 0.7085\n",
      "Epoch 34/50\n",
      "25/25 [==============================] - 17s 644ms/step - loss: 0.0438 - accuracy: 0.9938 - val_loss: 1.5326 - val_accuracy: 0.7538\n",
      "Epoch 35/50\n",
      "25/25 [==============================] - 17s 651ms/step - loss: 0.0173 - accuracy: 0.9964 - val_loss: 1.8499 - val_accuracy: 0.7035\n",
      "Epoch 36/50\n",
      "25/25 [==============================] - 17s 644ms/step - loss: 0.0464 - accuracy: 0.9850 - val_loss: 1.6239 - val_accuracy: 0.6784\n",
      "Epoch 37/50\n",
      "25/25 [==============================] - 17s 648ms/step - loss: 0.0285 - accuracy: 0.9917 - val_loss: 1.3924 - val_accuracy: 0.7035\n",
      "Epoch 38/50\n",
      "25/25 [==============================] - 17s 657ms/step - loss: 0.0336 - accuracy: 0.9930 - val_loss: 1.3938 - val_accuracy: 0.7136\n",
      "Epoch 39/50\n",
      "25/25 [==============================] - 17s 648ms/step - loss: 0.0130 - accuracy: 0.9954 - val_loss: 1.5056 - val_accuracy: 0.7286\n",
      "Epoch 40/50\n",
      "25/25 [==============================] - 17s 667ms/step - loss: 0.0080 - accuracy: 0.9954 - val_loss: 1.5245 - val_accuracy: 0.7337\n",
      "Epoch 41/50\n",
      "25/25 [==============================] - 17s 657ms/step - loss: 0.0060 - accuracy: 0.9986 - val_loss: 1.4906 - val_accuracy: 0.7387\n",
      "Epoch 42/50\n",
      "25/25 [==============================] - 17s 661ms/step - loss: 0.0033 - accuracy: 0.9995 - val_loss: 1.5344 - val_accuracy: 0.7387\n",
      "Epoch 43/50\n",
      "25/25 [==============================] - 17s 644ms/step - loss: 0.0034 - accuracy: 1.0000 - val_loss: 1.4611 - val_accuracy: 0.7286\n",
      "Epoch 44/50\n",
      "25/25 [==============================] - 17s 652ms/step - loss: 0.0346 - accuracy: 0.9950 - val_loss: 1.4200 - val_accuracy: 0.7286\n",
      "Epoch 45/50\n",
      "25/25 [==============================] - 16s 637ms/step - loss: 0.0169 - accuracy: 0.9966 - val_loss: 1.5244 - val_accuracy: 0.7286\n",
      "Epoch 46/50\n",
      "25/25 [==============================] - 17s 654ms/step - loss: 0.0053 - accuracy: 0.9985 - val_loss: 1.6114 - val_accuracy: 0.7136\n",
      "Epoch 47/50\n",
      "25/25 [==============================] - 15s 593ms/step - loss: 0.0156 - accuracy: 0.9954 - val_loss: 1.4239 - val_accuracy: 0.7487\n",
      "Epoch 48/50\n",
      "25/25 [==============================] - 17s 650ms/step - loss: 0.0067 - accuracy: 0.9990 - val_loss: 1.5408 - val_accuracy: 0.7337\n",
      "Epoch 49/50\n",
      "25/25 [==============================] - 17s 670ms/step - loss: 0.0168 - accuracy: 0.9979 - val_loss: 1.4645 - val_accuracy: 0.7588\n",
      "Epoch 50/50\n",
      "25/25 [==============================] - 16s 625ms/step - loss: 0.0026 - accuracy: 0.9997 - val_loss: 1.5987 - val_accuracy: 0.7387\n"
     ]
    },
    {
     "data": {
      "text/plain": [
       "<tensorflow.python.keras.callbacks.History at 0x13fe5cf40>"
      ]
     },
     "execution_count": 4,
     "metadata": {},
     "output_type": "execute_result"
    }
   ],
   "source": [
    "epochs = 50\n",
    "\n",
    "callbacks = [\n",
    "    keras.callbacks.ModelCheckpoint(\"save_at_{epoch}.h5\"),\n",
    "]\n",
    "model.compile(\n",
    "    optimizer=keras.optimizers.Adam(1e-3),\n",
    "    loss=\"categorical_crossentropy\",\n",
    "    metrics=[\"accuracy\"],\n",
    ")\n",
    "model.fit(\n",
    "    train_ds, epochs=epochs, callbacks=callbacks, validation_data=val_ds,\n",
    ")\n"
   ]
  },
  {
   "cell_type": "code",
   "execution_count": 6,
   "id": "b9aee1f3",
   "metadata": {},
   "outputs": [],
   "source": [
    "# serialize model to JSON\n",
    "model_json = model.to_json()\n",
    "with open(\"model.json\", \"w\") as json_file:\n",
    "    json_file.write(model_json)\n",
    "# serialize weights to HDF5"
   ]
  },
  {
   "cell_type": "code",
   "execution_count": 7,
   "id": "2319979d",
   "metadata": {},
   "outputs": [
    {
     "name": "stdout",
     "output_type": "stream",
     "text": [
      "Saved model to disk\n"
     ]
    }
   ],
   "source": [
    "# serialize weights to HDF5\n",
    "model.save_weights(\"model_final_weights.h5\")\n",
    "print(\"Saved model to disk\")"
   ]
  },
  {
   "cell_type": "code",
   "execution_count": null,
   "id": "295061fe",
   "metadata": {},
   "outputs": [],
   "source": []
  }
 ],
 "metadata": {
  "kernelspec": {
   "display_name": "Python 3",
   "language": "python",
   "name": "python3"
  },
  "language_info": {
   "codemirror_mode": {
    "name": "ipython",
    "version": 3
   },
   "file_extension": ".py",
   "mimetype": "text/x-python",
   "name": "python",
   "nbconvert_exporter": "python",
   "pygments_lexer": "ipython3",
   "version": "3.8.10"
  }
 },
 "nbformat": 4,
 "nbformat_minor": 5
}
