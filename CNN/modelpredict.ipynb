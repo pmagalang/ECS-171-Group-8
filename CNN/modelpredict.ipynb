{
 "cells": [
  {
   "cell_type": "code",
   "execution_count": 4,
   "id": "98e1baa0",
   "metadata": {},
   "outputs": [
    {
     "name": "stdout",
     "output_type": "stream",
     "text": [
      "Loaded model from disk\n"
     ]
    }
   ],
   "source": [
    "import tensorflow as tf\n",
    "from tensorflow import keras\n",
    "from tensorflow.keras.models import model_from_json\n",
    "import numpy as np\n",
    "import cv2\n",
    "# load json and create model\n",
    "json_file = open('model.json', 'r')\n",
    "loaded_model_json = json_file.read()\n",
    "json_file.close()\n",
    "loaded_model = model_from_json(loaded_model_json)\n",
    "# load weights into new model\n",
    "loaded_model.load_weights(\"model_final_weights.h5\")\n",
    "print(\"Loaded model from disk\")\n",
    "\n",
    "# evaluate loaded model on test data\n",
    "loaded_model.compile(loss='binary_crossentropy', optimizer='rmsprop', metrics=['accuracy'])"
   ]
  },
  {
   "cell_type": "code",
   "execution_count": 5,
   "id": "28294db5",
   "metadata": {},
   "outputs": [],
   "source": [
    "image_size = (350,230)\n",
    "img = keras.preprocessing.image.load_img(\n",
    "    \"mel-grams/rock/20.png\", target_size=image_size\n",
    ")\n",
    "img_array = keras.preprocessing.image.img_to_array(img)\n",
    "img_array = tf.expand_dims(img_array, 0)  # Create batch axis\n",
    "\n",
    "predictions = loaded_model.predict(img_array)"
   ]
  },
  {
   "cell_type": "code",
   "execution_count": 6,
   "id": "e764a0f5",
   "metadata": {},
   "outputs": [
    {
     "data": {
      "text/plain": [
       "array([[8.7041436e-03, 2.1268626e-08, 4.2024277e-02, 8.4469654e-02,\n",
       "        1.6350536e-05, 5.2930385e-09, 2.8384773e-12, 2.3571121e-11,\n",
       "        2.8882550e-06, 8.6478263e-01]], dtype=float32)"
      ]
     },
     "execution_count": 6,
     "metadata": {},
     "output_type": "execute_result"
    }
   ],
   "source": [
    "predictions"
   ]
  },
  {
   "cell_type": "code",
   "execution_count": 9,
   "id": "4acf88ea",
   "metadata": {},
   "outputs": [
    {
     "name": "stdout",
     "output_type": "stream",
     "text": [
      "{'blues': 0.8704143576323986, 'country': 2.1268625971515576e-06, 'hiphop': 4.202427715063095, 'metal': 8.446965366601944, 'reggae': 0.0016350535588571802, 'classical': 5.293038451981147e-07, 'disco': 2.838477283079177e-10, 'jazz': 2.3571120749688035e-09, 'pop': 0.0002888255039579235, 'rock': 86.47826313972473}\n"
     ]
    }
   ],
   "source": [
    "def get_genre_probabilities(pred_vals):\n",
    "    info_dict = {}\n",
    "    genres = [\"blues\", \"country\", \"hiphop\",\"metal\", \"reggae\",\n",
    "\"classical\", \"disco\", \"jazz\",\"pop\",\"rock\"]\n",
    "    for i in range(len(genres)):\n",
    "        percent = pred_vals[i] * 100\n",
    "        info_dict[genres[i]] = percent\n",
    "    return info_dict\n",
    "\n",
    "print(get_genre_probabilities(predictions[0]))  "
   ]
  },
  {
   "cell_type": "code",
   "execution_count": null,
   "id": "626af12d",
   "metadata": {},
   "outputs": [],
   "source": [
    "def predict_song_genre(melspec_path):\n",
    "    # load json and create model\n",
    "json_file = open('model.json', 'r')\n",
    "loaded_model_json = json_file.read()\n",
    "json_file.close()\n",
    "loaded_model = model_from_json(loaded_model_json)\n",
    "# load weights into new model\n",
    "loaded_model.load_weights(\"model_final_weights.h5\")\n",
    "print(\"Loaded model from disk\")\n",
    "\n",
    "# evaluate loaded model on test data\n",
    "loaded_model.compile(loss='binary_crossentropy', optimizer='rmsprop', metrics=['accuracy'])"
   ]
  },
  {
   "cell_type": "code",
   "execution_count": null,
   "id": "a18ab11c",
   "metadata": {},
   "outputs": [],
   "source": []
  }
 ],
 "metadata": {
  "kernelspec": {
   "display_name": "Python 3",
   "language": "python",
   "name": "python3"
  },
  "language_info": {
   "codemirror_mode": {
    "name": "ipython",
    "version": 3
   },
   "file_extension": ".py",
   "mimetype": "text/x-python",
   "name": "python",
   "nbconvert_exporter": "python",
   "pygments_lexer": "ipython3",
   "version": "3.8.10"
  }
 },
 "nbformat": 4,
 "nbformat_minor": 5
}
