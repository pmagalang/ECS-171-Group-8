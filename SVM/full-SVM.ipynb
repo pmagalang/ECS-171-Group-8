{
 "cells": [
  {
   "cell_type": "code",
   "execution_count": null,
   "id": "236ccdf6-4799-47e9-bdc1-6744c0e19b53",
   "metadata": {},
   "outputs": [],
   "source": [
    "# based off of: https://scikit-learn.org/stable/auto_examples/classification/plot_digits_classification.html"
   ]
  },
  {
   "cell_type": "code",
   "execution_count": 1,
   "id": "d515356b-ffae-42d9-a35b-455f8eae3a9c",
   "metadata": {},
   "outputs": [],
   "source": [
    "from skimage import io, color\n",
    "from skimage.transform import resize"
   ]
  },
  {
   "cell_type": "code",
   "execution_count": 2,
   "id": "abfac239-2423-4cf7-b1c6-de7cdce945d3",
   "metadata": {},
   "outputs": [],
   "source": [
    "import os \n",
    "from skimage import io\n",
    "\n",
    "genres = ['blues', 'classical', 'country', 'disco', 'hiphop', 'jazz', 'metal', 'pop', 'reggae', 'rock']\n",
    "\n",
    "int_translator = {}\n",
    "for i, genre in enumerate(genres):\n",
    "    int_translator[i] = genre\n",
    "\n",
    "# Load files\n",
    "image_list = []\n",
    "labels = []\n",
    "\n",
    "for label, genre in enumerate(genres):\n",
    "    list_files = os.listdir('../mel-grams/' + genre)\n",
    "    for filename in list_files:\n",
    "        image_list.append(io.imread('../mel-grams/' + genre + '/' + filename))\n",
    "        labels.append(label)\n"
   ]
  },
  {
   "cell_type": "code",
   "execution_count": 3,
   "id": "b13c7786-e15d-4c64-95bc-1c6df0ee5dde",
   "metadata": {},
   "outputs": [],
   "source": [
    "from skimage import io, color\n",
    "from skimage.transform import resize\n",
    "\n",
    "def image_processor(img):\n",
    "    #img = color.rgb2gray(color.rgba2rgb(img))\n",
    "    #img = resize(img, (235,500))\n",
    "    img = img.reshape(-1)\n",
    "    return img\n",
    "\n",
    "# flatten images\n",
    "image_list = [image_processor(image) for image in image_list]"
   ]
  },
  {
   "cell_type": "code",
   "execution_count": 4,
   "id": "f9858484-c7c0-4970-a195-5c038a252b60",
   "metadata": {},
   "outputs": [],
   "source": [
    "from skimage import io, color\n",
    "from skimage.transform import resize\n",
    "\n",
    "def image_processor(img):\n",
    "    #img = color.rgb2gray(color.rgba2rgb(img))\n",
    "    #img = resize(img, (235,500))\n",
    "    img = img.reshape(-1)\n",
    "    return img\n",
    "\n",
    "# flatten images\n",
    "image_list = [image_processor(image) for image in image_list]"
   ]
  },
  {
   "cell_type": "code",
   "execution_count": 5,
   "id": "1c9a3d8a-307e-41ff-8c44-7245b120d0b4",
   "metadata": {},
   "outputs": [],
   "source": [
    "from sklearn.model_selection import train_test_split\n",
    "X_train, X_test, y_train, y_test = train_test_split(\n",
    "    image_list, labels, test_size=0.2, shuffle=True)"
   ]
  },
  {
   "cell_type": "code",
   "execution_count": 6,
   "id": "0311f96a-e18b-4c4d-9fff-52176c61a6a4",
   "metadata": {},
   "outputs": [
    {
     "data": {
      "text/plain": [
       "SVC()"
      ]
     },
     "execution_count": 6,
     "metadata": {},
     "output_type": "execute_result"
    }
   ],
   "source": [
    "from sklearn import svm\n",
    "sv = svm.SVC()\n",
    "sv.fit(X_train, y_train)"
   ]
  },
  {
   "cell_type": "code",
   "execution_count": 8,
   "id": "15b19d7d-263e-4943-8a2f-4b1c96c4b9ca",
   "metadata": {},
   "outputs": [
    {
     "name": "stdout",
     "output_type": "stream",
     "text": [
      "Classification report for classifier SVC():\n",
      "              precision    recall  f1-score   support\n",
      "\n",
      "           0       0.17      0.05      0.07        22\n",
      "           1       0.47      0.74      0.57        19\n",
      "           2       0.23      0.16      0.19        19\n",
      "           3       0.22      0.10      0.14        20\n",
      "           4       0.47      0.43      0.45        21\n",
      "           5       0.33      0.22      0.27        18\n",
      "           6       0.68      0.78      0.72        27\n",
      "           7       0.46      0.82      0.59        22\n",
      "           8       0.38      0.17      0.23        18\n",
      "           9       0.15      0.36      0.21        14\n",
      "\n",
      "    accuracy                           0.40       200\n",
      "   macro avg       0.36      0.38      0.34       200\n",
      "weighted avg       0.37      0.40      0.36       200\n",
      "\n",
      "\n"
     ]
    }
   ],
   "source": [
    "from sklearn import metrics\n",
    "\n",
    "predicted = sv.predict(X_test)\n",
    "print(f\"Classification report for classifier {sv}:\\n\"\n",
    "      f\"{metrics.classification_report(y_test, predicted)}\\n\")"
   ]
  },
  {
   "cell_type": "code",
   "execution_count": 10,
   "id": "4fd78546-2f65-47a8-acf3-ddb8987d8a72",
   "metadata": {},
   "outputs": [
    {
     "data": {
      "image/png": "[encoded data removed]",
      "text/plain": [
       "<Figure size 432x288 with 2 Axes>"
      ]
     },
     "metadata": {
      "needs_background": "light"
     },
     "output_type": "display_data"
    }
   ],
   "source": [
    "import matplotlib.pyplot as plt\n",
    "\n",
    "disp = metrics.plot_confusion_matrix(sv, X_test, y_test)\n",
    "disp.figure_.suptitle(\"Confusion Matrix\")\n",
    "# print(f\"Confusion matrix:\\n{disp.confusion_matrix}\")\n",
    "\n",
    "plt.show()"
   ]
  },
  {
   "cell_type": "code",
   "execution_count": 14,
   "id": "701fa029-bb2d-48cb-9bb5-8dbd4b03689a",
   "metadata": {},
   "outputs": [
    {
     "data": {
      "text/plain": [
       "{'C': 1.0,\n",
       " 'break_ties': False,\n",
       " 'cache_size': 200,\n",
       " 'class_weight': None,\n",
       " 'coef0': 0.0,\n",
       " 'decision_function_shape': 'ovr',\n",
       " 'degree': 3,\n",
       " 'gamma': 'scale',\n",
       " 'kernel': 'rbf',\n",
       " 'max_iter': -1,\n",
       " 'probability': False,\n",
       " 'random_state': None,\n",
       " 'shrinking': True,\n",
       " 'tol': 0.001,\n",
       " 'verbose': False}"
      ]
     },
     "execution_count": 14,
     "metadata": {},
     "output_type": "execute_result"
    }
   ],
   "source": [
    "sv.get_params()"
   ]
  },
  {
   "cell_type": "code",
   "execution_count": null,
   "id": "38237ded-d68b-45dc-815a-93685c6c3c0f",
   "metadata": {},
   "outputs": [],
   "source": []
  }
 ],
 "metadata": {
  "kernelspec": {
   "display_name": "Python 3",
   "language": "python",
   "name": "python3"
  },
  "language_info": {
   "codemirror_mode": {
    "name": "ipython",
    "version": 3
   },
   "file_extension": ".py",
   "mimetype": "text/x-python",
   "name": "python",
   "nbconvert_exporter": "python",
   "pygments_lexer": "ipython3",
   "version": "3.9.2"
  }
 },
 "nbformat": 4,
 "nbformat_minor": 5
}
